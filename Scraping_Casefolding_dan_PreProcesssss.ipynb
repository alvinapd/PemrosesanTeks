{
  "cells": [
    {
      "cell_type": "code",
      "execution_count": null,
      "metadata": {
        "colab": {
          "base_uri": "https://localhost:8080/"
        },
        "collapsed": true,
        "id": "xaUum0dCygqN",
        "outputId": "dc29a044-9bc7-43e7-ef2e-7a93c0de2035"
      },
      "outputs": [
        {
          "output_type": "stream",
          "name": "stdout",
          "text": [
            "\r0% [Working]\r            \rHit:1 https://cli.github.com/packages stable InRelease\n",
            "\r0% [Connecting to archive.ubuntu.com (185.125.190.36)] [Connecting to security.\r                                                                               \rHit:2 https://cloud.r-project.org/bin/linux/ubuntu jammy-cran40/ InRelease\n",
            "\r0% [Connecting to archive.ubuntu.com (185.125.190.36)] [Waiting for headers] [C\r                                                                               \rHit:3 https://developer.download.nvidia.com/compute/cuda/repos/ubuntu2204/x86_64  InRelease\n",
            "Hit:4 http://security.ubuntu.com/ubuntu jammy-security InRelease\n",
            "Hit:5 https://dl.google.com/linux/chrome/deb stable InRelease\n",
            "Hit:6 http://archive.ubuntu.com/ubuntu jammy InRelease\n",
            "Hit:7 https://r2u.stat.illinois.edu/ubuntu jammy InRelease\n",
            "Hit:8 http://archive.ubuntu.com/ubuntu jammy-updates InRelease\n",
            "Hit:9 http://archive.ubuntu.com/ubuntu jammy-backports InRelease\n",
            "Hit:10 https://ppa.launchpadcontent.net/deadsnakes/ppa/ubuntu jammy InRelease\n",
            "Hit:11 https://ppa.launchpadcontent.net/graphics-drivers/ppa/ubuntu jammy InRelease\n",
            "Hit:12 https://ppa.launchpadcontent.net/ubuntugis/ppa/ubuntu jammy InRelease\n",
            "Reading package lists... Done\n",
            "W: Skipping acquire of configured file 'main/source/Sources' as repository 'https://r2u.stat.illinois.edu/ubuntu jammy InRelease' does not seem to provide it (sources.list entry misspelt?)\n",
            "Reading package lists... Done\n",
            "Building dependency tree... Done\n",
            "Reading state information... Done\n",
            "chromium-chromedriver is already the newest version (1:85.0.4183.83-0ubuntu2.22.04.1).\n",
            "0 upgraded, 0 newly installed, 0 to remove and 43 not upgraded.\n",
            "Requirement already satisfied: selenium in /usr/local/lib/python3.12/dist-packages (4.19.0)\n",
            "Requirement already satisfied: urllib3<3,>=1.26 in /usr/local/lib/python3.12/dist-packages (from urllib3[socks]<3,>=1.26->selenium) (2.5.0)\n",
            "Requirement already satisfied: trio~=0.17 in /usr/local/lib/python3.12/dist-packages (from selenium) (0.31.0)\n",
            "Requirement already satisfied: trio-websocket~=0.9 in /usr/local/lib/python3.12/dist-packages (from selenium) (0.12.2)\n",
            "Requirement already satisfied: certifi>=2021.10.8 in /usr/local/lib/python3.12/dist-packages (from selenium) (2025.8.3)\n",
            "Requirement already satisfied: typing_extensions>=4.9.0 in /usr/local/lib/python3.12/dist-packages (from selenium) (4.15.0)\n",
            "Requirement already satisfied: attrs>=23.2.0 in /usr/local/lib/python3.12/dist-packages (from trio~=0.17->selenium) (25.3.0)\n",
            "Requirement already satisfied: sortedcontainers in /usr/local/lib/python3.12/dist-packages (from trio~=0.17->selenium) (2.4.0)\n",
            "Requirement already satisfied: idna in /usr/local/lib/python3.12/dist-packages (from trio~=0.17->selenium) (3.10)\n",
            "Requirement already satisfied: outcome in /usr/local/lib/python3.12/dist-packages (from trio~=0.17->selenium) (1.3.0.post0)\n",
            "Requirement already satisfied: sniffio>=1.3.0 in /usr/local/lib/python3.12/dist-packages (from trio~=0.17->selenium) (1.3.1)\n",
            "Requirement already satisfied: wsproto>=0.14 in /usr/local/lib/python3.12/dist-packages (from trio-websocket~=0.9->selenium) (1.2.0)\n",
            "Requirement already satisfied: pysocks!=1.5.7,<2.0,>=1.5.6 in /usr/local/lib/python3.12/dist-packages (from urllib3[socks]<3,>=1.26->selenium) (1.7.1)\n",
            "Requirement already satisfied: h11<1,>=0.9.0 in /usr/local/lib/python3.12/dist-packages (from wsproto>=0.14->trio-websocket~=0.9->selenium) (0.16.0)\n"
          ]
        }
      ],
      "source": [
        "# !apt-get update\n",
        "# !apt install chromium-chromedriver\n",
        "# !pip install selenium\n"
      ]
    },
    {
      "cell_type": "code",
      "execution_count": null,
      "metadata": {
        "colab": {
          "base_uri": "https://localhost:8080/"
        },
        "collapsed": true,
        "id": "JHD3RaEEyjgh",
        "outputId": "4a07fd08-54ef-4969-b509-b4514788d821"
      },
      "outputs": [
        {
          "output_type": "stream",
          "name": "stdout",
          "text": [
            "Hit:1 https://cloud.r-project.org/bin/linux/ubuntu jammy-cran40/ InRelease\n",
            "Hit:2 https://cli.github.com/packages stable InRelease\n",
            "Hit:3 https://developer.download.nvidia.com/compute/cuda/repos/ubuntu2204/x86_64  InRelease\n",
            "Hit:4 http://archive.ubuntu.com/ubuntu jammy InRelease\n",
            "Hit:5 http://security.ubuntu.com/ubuntu jammy-security InRelease\n",
            "Hit:6 https://r2u.stat.illinois.edu/ubuntu jammy InRelease\n",
            "Hit:7 http://archive.ubuntu.com/ubuntu jammy-updates InRelease\n",
            "Hit:8 http://archive.ubuntu.com/ubuntu jammy-backports InRelease\n",
            "Hit:9 https://ppa.launchpadcontent.net/deadsnakes/ppa/ubuntu jammy InRelease\n",
            "Hit:10 https://ppa.launchpadcontent.net/graphics-drivers/ppa/ubuntu jammy InRelease\n",
            "Hit:11 https://dl.google.com/linux/chrome/deb stable InRelease\n",
            "Hit:12 https://ppa.launchpadcontent.net/ubuntugis/ppa/ubuntu jammy InRelease\n",
            "Reading package lists... Done\n",
            "W: Skipping acquire of configured file 'main/source/Sources' as repository 'https://r2u.stat.illinois.edu/ubuntu jammy InRelease' does not seem to provide it (sources.list entry misspelt?)\n",
            "Reading package lists... Done\n",
            "Building dependency tree... Done\n",
            "Reading state information... Done\n",
            "chromium-browser is already the newest version (1:85.0.4183.83-0ubuntu2.22.04.1).\n",
            "chromium-chromedriver is already the newest version (1:85.0.4183.83-0ubuntu2.22.04.1).\n",
            "0 upgraded, 0 newly installed, 0 to remove and 43 not upgraded.\n",
            "Requirement already satisfied: selenium==4.19.0 in /usr/local/lib/python3.12/dist-packages (4.19.0)\n",
            "Requirement already satisfied: urllib3<3,>=1.26 in /usr/local/lib/python3.12/dist-packages (from urllib3[socks]<3,>=1.26->selenium==4.19.0) (2.5.0)\n",
            "Requirement already satisfied: trio~=0.17 in /usr/local/lib/python3.12/dist-packages (from selenium==4.19.0) (0.31.0)\n",
            "Requirement already satisfied: trio-websocket~=0.9 in /usr/local/lib/python3.12/dist-packages (from selenium==4.19.0) (0.12.2)\n",
            "Requirement already satisfied: certifi>=2021.10.8 in /usr/local/lib/python3.12/dist-packages (from selenium==4.19.0) (2025.8.3)\n",
            "Requirement already satisfied: typing_extensions>=4.9.0 in /usr/local/lib/python3.12/dist-packages (from selenium==4.19.0) (4.15.0)\n",
            "Requirement already satisfied: attrs>=23.2.0 in /usr/local/lib/python3.12/dist-packages (from trio~=0.17->selenium==4.19.0) (25.3.0)\n",
            "Requirement already satisfied: sortedcontainers in /usr/local/lib/python3.12/dist-packages (from trio~=0.17->selenium==4.19.0) (2.4.0)\n",
            "Requirement already satisfied: idna in /usr/local/lib/python3.12/dist-packages (from trio~=0.17->selenium==4.19.0) (3.10)\n",
            "Requirement already satisfied: outcome in /usr/local/lib/python3.12/dist-packages (from trio~=0.17->selenium==4.19.0) (1.3.0.post0)\n",
            "Requirement already satisfied: sniffio>=1.3.0 in /usr/local/lib/python3.12/dist-packages (from trio~=0.17->selenium==4.19.0) (1.3.1)\n",
            "Requirement already satisfied: wsproto>=0.14 in /usr/local/lib/python3.12/dist-packages (from trio-websocket~=0.9->selenium==4.19.0) (1.2.0)\n",
            "Requirement already satisfied: pysocks!=1.5.7,<2.0,>=1.5.6 in /usr/local/lib/python3.12/dist-packages (from urllib3[socks]<3,>=1.26->selenium==4.19.0) (1.7.1)\n",
            "Requirement already satisfied: h11<1,>=0.9.0 in /usr/local/lib/python3.12/dist-packages (from wsproto>=0.14->trio-websocket~=0.9->selenium==4.19.0) (0.16.0)\n"
          ]
        }
      ],
      "source": [
        "# !apt-get update -y\n",
        "# !apt install chromium-browser chromium-chromedriver -y\n",
        "# !pip install selenium==4.19.0\n"
      ]
    },
    {
      "cell_type": "code",
      "execution_count": null,
      "metadata": {
        "colab": {
          "base_uri": "https://localhost:8080/"
        },
        "collapsed": true,
        "id": "v8teKj0iy07f",
        "outputId": "bc5d1ba7-5f54-47b0-ed31-675b2088d649"
      },
      "outputs": [
        {
          "output_type": "stream",
          "name": "stdout",
          "text": [
            "\r0% [Working]\r            \rHit:1 https://cli.github.com/packages stable InRelease\n",
            "\r0% [Connecting to archive.ubuntu.com (185.125.190.39)] [Waiting for headers] [C\r                                                                               \rHit:2 http://security.ubuntu.com/ubuntu jammy-security InRelease\n",
            "\r0% [Waiting for headers] [Waiting for headers] [Connected to r2u.stat.illinois.\r                                                                               \rHit:3 https://cloud.r-project.org/bin/linux/ubuntu jammy-cran40/ InRelease\n",
            "Hit:4 https://developer.download.nvidia.com/compute/cuda/repos/ubuntu2204/x86_64  InRelease\n",
            "Hit:5 http://archive.ubuntu.com/ubuntu jammy InRelease\n",
            "Hit:6 https://r2u.stat.illinois.edu/ubuntu jammy InRelease\n",
            "Hit:7 http://archive.ubuntu.com/ubuntu jammy-updates InRelease\n",
            "Hit:8 http://archive.ubuntu.com/ubuntu jammy-backports InRelease\n",
            "Hit:9 https://ppa.launchpadcontent.net/deadsnakes/ppa/ubuntu jammy InRelease\n",
            "Hit:10 https://ppa.launchpadcontent.net/graphics-drivers/ppa/ubuntu jammy InRelease\n",
            "Hit:11 https://dl.google.com/linux/chrome/deb stable InRelease\n",
            "Hit:12 https://ppa.launchpadcontent.net/ubuntugis/ppa/ubuntu jammy InRelease\n",
            "Reading package lists... Done\n",
            "W: Skipping acquire of configured file 'main/source/Sources' as repository 'https://r2u.stat.illinois.edu/ubuntu jammy InRelease' does not seem to provide it (sources.list entry misspelt?)\n",
            "Reading package lists... Done\n",
            "Building dependency tree... Done\n",
            "Reading state information... Done\n",
            "chromium-browser is already the newest version (1:85.0.4183.83-0ubuntu2.22.04.1).\n",
            "0 upgraded, 0 newly installed, 0 to remove and 43 not upgraded.\n",
            "Collecting selenium==4.21.0\n",
            "  Using cached selenium-4.21.0-py3-none-any.whl.metadata (6.9 kB)\n",
            "Requirement already satisfied: webdriver-manager==4.0.2 in /usr/local/lib/python3.12/dist-packages (4.0.2)\n",
            "Requirement already satisfied: urllib3<3,>=1.26 in /usr/local/lib/python3.12/dist-packages (from urllib3[socks]<3,>=1.26->selenium==4.21.0) (2.5.0)\n",
            "Requirement already satisfied: trio~=0.17 in /usr/local/lib/python3.12/dist-packages (from selenium==4.21.0) (0.31.0)\n",
            "Requirement already satisfied: trio-websocket~=0.9 in /usr/local/lib/python3.12/dist-packages (from selenium==4.21.0) (0.12.2)\n",
            "Requirement already satisfied: certifi>=2021.10.8 in /usr/local/lib/python3.12/dist-packages (from selenium==4.21.0) (2025.8.3)\n",
            "Requirement already satisfied: typing_extensions>=4.9.0 in /usr/local/lib/python3.12/dist-packages (from selenium==4.21.0) (4.15.0)\n",
            "Requirement already satisfied: requests in /usr/local/lib/python3.12/dist-packages (from webdriver-manager==4.0.2) (2.32.4)\n",
            "Requirement already satisfied: python-dotenv in /usr/local/lib/python3.12/dist-packages (from webdriver-manager==4.0.2) (1.1.1)\n",
            "Requirement already satisfied: packaging in /usr/local/lib/python3.12/dist-packages (from webdriver-manager==4.0.2) (25.0)\n",
            "Requirement already satisfied: attrs>=23.2.0 in /usr/local/lib/python3.12/dist-packages (from trio~=0.17->selenium==4.21.0) (25.3.0)\n",
            "Requirement already satisfied: sortedcontainers in /usr/local/lib/python3.12/dist-packages (from trio~=0.17->selenium==4.21.0) (2.4.0)\n",
            "Requirement already satisfied: idna in /usr/local/lib/python3.12/dist-packages (from trio~=0.17->selenium==4.21.0) (3.10)\n",
            "Requirement already satisfied: outcome in /usr/local/lib/python3.12/dist-packages (from trio~=0.17->selenium==4.21.0) (1.3.0.post0)\n",
            "Requirement already satisfied: sniffio>=1.3.0 in /usr/local/lib/python3.12/dist-packages (from trio~=0.17->selenium==4.21.0) (1.3.1)\n",
            "Requirement already satisfied: wsproto>=0.14 in /usr/local/lib/python3.12/dist-packages (from trio-websocket~=0.9->selenium==4.21.0) (1.2.0)\n",
            "Requirement already satisfied: pysocks!=1.5.7,<2.0,>=1.5.6 in /usr/local/lib/python3.12/dist-packages (from urllib3[socks]<3,>=1.26->selenium==4.21.0) (1.7.1)\n",
            "Requirement already satisfied: charset_normalizer<4,>=2 in /usr/local/lib/python3.12/dist-packages (from requests->webdriver-manager==4.0.2) (3.4.3)\n",
            "Requirement already satisfied: h11<1,>=0.9.0 in /usr/local/lib/python3.12/dist-packages (from wsproto>=0.14->trio-websocket~=0.9->selenium==4.21.0) (0.16.0)\n",
            "Using cached selenium-4.21.0-py3-none-any.whl (9.5 MB)\n",
            "Installing collected packages: selenium\n",
            "  Attempting uninstall: selenium\n",
            "    Found existing installation: selenium 4.19.0\n",
            "    Uninstalling selenium-4.19.0:\n",
            "      Successfully uninstalled selenium-4.19.0\n",
            "Successfully installed selenium-4.21.0\n"
          ]
        }
      ],
      "source": [
        "!apt-get update -y\n",
        "!apt install -y chromium-browser\n",
        "!pip install selenium==4.21.0 webdriver-manager==4.0.2\n"
      ]
    },
    {
      "cell_type": "code",
      "execution_count": null,
      "metadata": {
        "colab": {
          "base_uri": "https://localhost:8080/"
        },
        "collapsed": true,
        "id": "2RhPhvAgzBa6",
        "outputId": "50006730-ca2d-4fcd-82ec-bb2ce340d73d"
      },
      "outputs": [
        {
          "output_type": "stream",
          "name": "stdout",
          "text": [
            "Hit:1 https://cloud.r-project.org/bin/linux/ubuntu jammy-cran40/ InRelease\n",
            "Hit:2 http://security.ubuntu.com/ubuntu jammy-security InRelease\n",
            "Hit:3 https://cli.github.com/packages stable InRelease\n",
            "Hit:4 https://developer.download.nvidia.com/compute/cuda/repos/ubuntu2204/x86_64  InRelease\n",
            "Hit:5 http://archive.ubuntu.com/ubuntu jammy InRelease\n",
            "Hit:6 https://r2u.stat.illinois.edu/ubuntu jammy InRelease\n",
            "Hit:7 http://archive.ubuntu.com/ubuntu jammy-updates InRelease\n",
            "Hit:8 http://archive.ubuntu.com/ubuntu jammy-backports InRelease\n",
            "Hit:9 https://ppa.launchpadcontent.net/deadsnakes/ppa/ubuntu jammy InRelease\n",
            "Hit:10 https://ppa.launchpadcontent.net/graphics-drivers/ppa/ubuntu jammy InRelease\n",
            "Hit:11 https://dl.google.com/linux/chrome/deb stable InRelease\n",
            "Hit:12 https://ppa.launchpadcontent.net/ubuntugis/ppa/ubuntu jammy InRelease\n",
            "Reading package lists... Done\n",
            "W: Skipping acquire of configured file 'main/source/Sources' as repository 'https://r2u.stat.illinois.edu/ubuntu jammy InRelease' does not seem to provide it (sources.list entry misspelt?)\n",
            "Reading package lists... Done\n",
            "Building dependency tree... Done\n",
            "Reading state information... Done\n",
            "unzip is already the newest version (6.0-26ubuntu3.2).\n",
            "wget is already the newest version (1.21.2-2ubuntu1.1).\n",
            "0 upgraded, 0 newly installed, 0 to remove and 43 not upgraded.\n",
            "--2025-10-10 11:26:38--  https://dl.google.com/linux/direct/google-chrome-stable_current_amd64.deb\n",
            "Resolving dl.google.com (dl.google.com)... 142.250.101.190, 142.250.101.91, 142.250.101.93, ...\n",
            "Connecting to dl.google.com (dl.google.com)|142.250.101.190|:443... connected.\n",
            "HTTP request sent, awaiting response... 200 OK\n",
            "Length: 120558808 (115M) [application/x-debian-package]\n",
            "Saving to: ‘google-chrome-stable_current_amd64.deb’\n",
            "\n",
            "google-chrome-stabl 100%[===================>] 114.97M   459MB/s    in 0.3s    \n",
            "\n",
            "2025-10-10 11:26:39 (459 MB/s) - ‘google-chrome-stable_current_amd64.deb’ saved [120558808/120558808]\n",
            "\n",
            "Reading package lists... Done\n",
            "Building dependency tree... Done\n",
            "Reading state information... Done\n",
            "Note, selecting 'google-chrome-stable' instead of './google-chrome-stable_current_amd64.deb'\n",
            "google-chrome-stable is already the newest version (141.0.7390.76-1).\n",
            "0 upgraded, 0 newly installed, 0 to remove and 43 not upgraded.\n",
            "Requirement already satisfied: selenium==4.21.0 in /usr/local/lib/python3.12/dist-packages (4.21.0)\n",
            "Requirement already satisfied: urllib3<3,>=1.26 in /usr/local/lib/python3.12/dist-packages (from urllib3[socks]<3,>=1.26->selenium==4.21.0) (2.5.0)\n",
            "Requirement already satisfied: trio~=0.17 in /usr/local/lib/python3.12/dist-packages (from selenium==4.21.0) (0.31.0)\n",
            "Requirement already satisfied: trio-websocket~=0.9 in /usr/local/lib/python3.12/dist-packages (from selenium==4.21.0) (0.12.2)\n",
            "Requirement already satisfied: certifi>=2021.10.8 in /usr/local/lib/python3.12/dist-packages (from selenium==4.21.0) (2025.8.3)\n",
            "Requirement already satisfied: typing_extensions>=4.9.0 in /usr/local/lib/python3.12/dist-packages (from selenium==4.21.0) (4.15.0)\n",
            "Requirement already satisfied: attrs>=23.2.0 in /usr/local/lib/python3.12/dist-packages (from trio~=0.17->selenium==4.21.0) (25.3.0)\n",
            "Requirement already satisfied: sortedcontainers in /usr/local/lib/python3.12/dist-packages (from trio~=0.17->selenium==4.21.0) (2.4.0)\n",
            "Requirement already satisfied: idna in /usr/local/lib/python3.12/dist-packages (from trio~=0.17->selenium==4.21.0) (3.10)\n",
            "Requirement already satisfied: outcome in /usr/local/lib/python3.12/dist-packages (from trio~=0.17->selenium==4.21.0) (1.3.0.post0)\n",
            "Requirement already satisfied: sniffio>=1.3.0 in /usr/local/lib/python3.12/dist-packages (from trio~=0.17->selenium==4.21.0) (1.3.1)\n",
            "Requirement already satisfied: wsproto>=0.14 in /usr/local/lib/python3.12/dist-packages (from trio-websocket~=0.9->selenium==4.21.0) (1.2.0)\n",
            "Requirement already satisfied: pysocks!=1.5.7,<2.0,>=1.5.6 in /usr/local/lib/python3.12/dist-packages (from urllib3[socks]<3,>=1.26->selenium==4.21.0) (1.7.1)\n",
            "Requirement already satisfied: h11<1,>=0.9.0 in /usr/local/lib/python3.12/dist-packages (from wsproto>=0.14->trio-websocket~=0.9->selenium==4.21.0) (0.16.0)\n"
          ]
        }
      ],
      "source": [
        "!apt-get update\n",
        "!apt install -y wget unzip\n",
        "!wget https://dl.google.com/linux/direct/google-chrome-stable_current_amd64.deb\n",
        "!apt install -y ./google-chrome-stable_current_amd64.deb\n"
      ]
    },
    {
      "cell_type": "code",
      "execution_count": null,
      "metadata": {
        "colab": {
          "base_uri": "https://localhost:8080/"
        },
        "id": "p7zMdyNtzJ41",
        "outputId": "eb7846b7-8d2c-488c-b39c-a4560e75e213",
        "collapsed": true
      },
      "outputs": [
        {
          "output_type": "stream",
          "name": "stdout",
          "text": [
            "Chrome Headless siap digunakan di Colab tanpa crash!\n"
          ]
        }
      ],
      "source": [
        "import os\n",
        "from selenium import webdriver\n",
        "from selenium.webdriver.chrome.service import Service\n",
        "from selenium.webdriver.chrome.options import Options\n",
        "from webdriver_manager.chrome import ChromeDriverManager\n",
        "\n",
        "# memastikan Chrome bisa jalan di mode headless\n",
        "chrome_options = Options()\n",
        "chrome_options.add_argument(\"--headless=new\")\n",
        "chrome_options.add_argument(\"--no-sandbox\")\n",
        "chrome_options.add_argument(\"--disable-dev-shm-usage\")\n",
        "chrome_options.add_argument(\"--window-size=1920,1080\")\n",
        "\n",
        "# ChromeDriverManager spy versi otomatis cocok\n",
        "driver = webdriver.Chrome(service=Service(ChromeDriverManager().install()), options=chrome_options)\n",
        "\n",
        "print(\"Chrome Headless siap digunakan di Colab tanpa crash!\")\n"
      ]
    },
    {
      "cell_type": "code",
      "execution_count": null,
      "metadata": {
        "colab": {
          "base_uri": "https://localhost:8080/"
        },
        "id": "p0YLw-PSzeg4",
        "outputId": "3f210817-0030-4273-f7ec-3fab89e74c1a",
        "collapsed": true
      },
      "outputs": [
        {
          "output_type": "stream",
          "name": "stdout",
          "text": [
            " Browser berhasil membuka Google!\n"
          ]
        }
      ],
      "source": [
        "driver.get(\"https://www.google.com\")\n",
        "print(\" Browser berhasil membuka Google!\")\n"
      ]
    },
    {
      "cell_type": "code",
      "execution_count": null,
      "metadata": {
        "colab": {
          "base_uri": "https://localhost:8080/"
        },
        "id": "cm4e3q__zj5L",
        "outputId": "c4a25302-01f9-4cc8-8f55-9d8ea6a17cd0"
      },
      "outputs": [
        {
          "output_type": "stream",
          "name": "stdout",
          "text": [
            "W: Skipping acquire of configured file 'main/source/Sources' as repository 'https://r2u.stat.illinois.edu/ubuntu jammy InRelease' does not seem to provide it (sources.list entry misspelt?)\n",
            "Chrome Headless siap di Colab!\n",
            "Halaman Google Maps berhasil dibuka: https://www.google.com/maps/place/Grand+Mercure+Yogyakarta+Adi+Sucipto/@-7.7836348,110.3898571,17z/data=!4m9!3m8!1s0x2e7a59c53e8f9e4f:0x428ec2bf72c50217!5m2!4m1!1i2!8m2!3d-7.7836348!4d110.392432!16s%2Fg%2F11c5s5nkm4?hl=id&entry=ttu&g_ep=EgoyMDI1MTAwOC4wIKXMDSoASAFQAw%3D%3D\n"
          ]
        }
      ],
      "source": [
        "!apt-get update -qq\n",
        "!apt-get install -y chromium-chromedriver -qq\n",
        "!pip install selenium webdriver-manager -q\n",
        "\n",
        "import sys\n",
        "import time\n",
        "from selenium import webdriver\n",
        "from selenium.webdriver.chrome.service import Service\n",
        "from selenium.webdriver.chrome.options import Options\n",
        "from webdriver_manager.chrome import ChromeDriverManager\n",
        "\n",
        "# konfig Chrome spy sesuai dengan Colab (headless)\n",
        "chrome_options = Options()\n",
        "chrome_options.add_argument(\"--headless=new\")\n",
        "chrome_options.add_argument(\"--no-sandbox\")\n",
        "chrome_options.add_argument(\"--disable-dev-shm-usage\")\n",
        "chrome_options.add_argument(\"--window-size=1920,1080\")\n",
        "chrome_options.add_argument(\"--disable-gpu\")\n",
        "chrome_options.add_argument(\"--remote-debugging-port=9222\")\n",
        "\n",
        "# menggunakan WebDriverManager spy versi otomatis sesuai\n",
        "driver = webdriver.Chrome(service=Service(ChromeDriverManager().install()), options=chrome_options)\n",
        "print(\"Chrome Headless siap di Colab!\")\n",
        "\n",
        "# membuka link\n",
        "url = \"https://www.google.com/maps/place/Grand+Mercure+Yogyakarta+Adi+Sucipto/@-7.7836348,110.3898571,17z/data=!4m9!3m8!1s0x2e7a59c53e8f9e4f:0x428ec2bf72c50217!5m2!4m1!1i2!8m2!3d-7.7836348!4d110.392432!16s%2Fg%2F11c5s5nkm4?entry=ttu&hl=id\"\n",
        "driver.get(url)\n",
        "time.sleep(5)\n",
        "\n",
        "print(\"Halaman Google Maps berhasil dibuka:\", driver.current_url)"
      ]
    },
    {
      "cell_type": "code",
      "execution_count": null,
      "metadata": {
        "colab": {
          "base_uri": "https://localhost:8080/"
        },
        "id": "Tj12N_nQ1Y7l",
        "outputId": "2fbebc98-d815-4422-d927-43d8a1d501c9"
      },
      "outputs": [
        {
          "output_type": "stream",
          "name": "stdout",
          "text": [
            "Mencari tab 'ulasan'...\n",
            "Tab 'Ulasan' berhasil diklik!\n",
            "Mencari div tempat komentar dimuat...\n",
            "Mulai scroll otomatis untuk memuat semua komentar...\n",
            "Semua komentar sudah dimuat sepenuhnya!\n"
          ]
        }
      ],
      "source": [
        "import time\n",
        "from selenium.webdriver.common.by import By\n",
        "from selenium.webdriver.common.keys import Keys\n",
        "from selenium.common.exceptions import NoSuchElementException\n",
        "\n",
        "print(\"Mencari tab 'ulasan'...\")\n",
        "\n",
        "try:\n",
        "    tab_reviews = driver.find_element(By.XPATH, \"//button[contains(., 'Ulasan')]\")\n",
        "    tab_reviews.click()\n",
        "    print(\"Tab 'Ulasan' berhasil diklik!\")\n",
        "    time.sleep(5)\n",
        "except NoSuchElementException:\n",
        "    print(\"Tidak menemukan tombol 'Ulasan'. Lanjut ke tahap scroll komentar...\")\n",
        "\n",
        "print(\"Mencari div tempat komentar dimuat...\")\n",
        "\n",
        "# mencari div tempat komentar muncul\n",
        "scrollable_div = None\n",
        "selectors = [\n",
        "    'div.m6QErb.DxyBCb.kA9KIf.dS8AEf',  # umum untuk Maps baru\n",
        "    'div.section-layout.section-scrollbox.scrollable-y',  # Maps lama\n",
        "]\n",
        "\n",
        "for selector in selectors:\n",
        "    try:\n",
        "        scrollable_div = driver.find_element(By.CSS_SELECTOR, selector)\n",
        "        break\n",
        "    except:\n",
        "        continue\n",
        "\n",
        "if scrollable_div:\n",
        "    print(\"Mulai scroll otomatis untuk memuat semua komentar...\")\n",
        "    last_height = 0\n",
        "    same_count = 0\n",
        "    while True:\n",
        "        driver.execute_script('arguments[0].scrollTop = arguments[0].scrollHeight', scrollable_div)\n",
        "        time.sleep(2)\n",
        "        new_height = driver.execute_script('return arguments[0].scrollHeight', scrollable_div)\n",
        "        if new_height == last_height:\n",
        "            same_count += 1\n",
        "            if same_count > 3:\n",
        "                break\n",
        "        else:\n",
        "            same_count = 0\n",
        "        last_height = new_height\n",
        "    print(\"Semua komentar sudah dimuat sepenuhnya!\")\n",
        "else:\n",
        "    print(\"Tidak bisa menemukan div tempat komentar dimuat. Pastikan tab 'Ulasan' sudah terbuka.\")\n"
      ]
    },
    {
      "cell_type": "code",
      "execution_count": null,
      "metadata": {
        "colab": {
          "base_uri": "https://localhost:8080/"
        },
        "id": "bEh7Vdvg14gm",
        "outputId": "4ada3bf2-36ca-431b-b591-cb80051f2367"
      },
      "outputs": [
        {
          "metadata": {
            "tags": null
          },
          "name": "stdout",
          "output_type": "stream",
          "text": [
            " Mulai proses long scroll...\n",
            "Scrollable element ditemukan pakai selector: div.m6QErb.DxyBCb.kA9KIf.dS8AEf\n",
            "Area ulasan ditemukan, mulai scroll...\n",
            "\n"
          ]
        },
        {
          "metadata": {
            "tags": null
          },
          "name": "stderr",
          "output_type": "stream",
          "text": [
            "  3%|▎         | 1/30 [00:41<20:03, 41.48s/it]"
          ]
        },
        {
          "metadata": {
            "tags": null
          },
          "name": "stdout",
          "output_type": "stream",
          "text": [
            ">> Ronde 1: total 926 ulasan terkumpul.\n"
          ]
        },
        {
          "metadata": {
            "tags": null
          },
          "name": "stderr",
          "output_type": "stream",
          "text": [
            "\r  7%|▋         | 2/30 [01:19<18:22, 39.37s/it]"
          ]
        },
        {
          "metadata": {
            "tags": null
          },
          "name": "stdout",
          "output_type": "stream",
          "text": [
            ">> Ronde 2: total 936 ulasan terkumpul.\n"
          ]
        },
        {
          "metadata": {
            "tags": null
          },
          "name": "stderr",
          "output_type": "stream",
          "text": [
            "\r 10%|█         | 3/30 [01:54<16:56, 37.64s/it]"
          ]
        },
        {
          "metadata": {
            "tags": null
          },
          "name": "stdout",
          "output_type": "stream",
          "text": [
            ">> Ronde 3: total 946 ulasan terkumpul.\n"
          ]
        },
        {
          "metadata": {
            "tags": null
          },
          "name": "stderr",
          "output_type": "stream",
          "text": [
            "\r 13%|█▎        | 4/30 [02:32<16:13, 37.46s/it]"
          ]
        },
        {
          "metadata": {
            "tags": null
          },
          "name": "stdout",
          "output_type": "stream",
          "text": [
            ">> Ronde 4: total 956 ulasan terkumpul.\n"
          ]
        },
        {
          "metadata": {
            "tags": null
          },
          "name": "stderr",
          "output_type": "stream",
          "text": [
            "\r 17%|█▋        | 5/30 [03:09<15:32, 37.29s/it]"
          ]
        },
        {
          "metadata": {
            "tags": null
          },
          "name": "stdout",
          "output_type": "stream",
          "text": [
            ">> Ronde 5: total 966 ulasan terkumpul.\n"
          ]
        },
        {
          "metadata": {
            "tags": null
          },
          "name": "stderr",
          "output_type": "stream",
          "text": [
            "\r 20%|██        | 6/30 [03:48<15:11, 37.98s/it]"
          ]
        },
        {
          "metadata": {
            "tags": null
          },
          "name": "stdout",
          "output_type": "stream",
          "text": [
            ">> Ronde 6: total 976 ulasan terkumpul.\n"
          ]
        },
        {
          "metadata": {
            "tags": null
          },
          "name": "stderr",
          "output_type": "stream",
          "text": [
            "\r 23%|██▎       | 7/30 [04:26<14:31, 37.88s/it]"
          ]
        },
        {
          "metadata": {
            "tags": null
          },
          "name": "stdout",
          "output_type": "stream",
          "text": [
            ">> Ronde 7: total 986 ulasan terkumpul.\n"
          ]
        },
        {
          "metadata": {
            "tags": null
          },
          "name": "stderr",
          "output_type": "stream",
          "text": [
            "\r 27%|██▋       | 8/30 [05:08<14:25, 39.32s/it]"
          ]
        },
        {
          "metadata": {
            "tags": null
          },
          "name": "stdout",
          "output_type": "stream",
          "text": [
            ">> Ronde 8: total 996 ulasan terkumpul.\n"
          ]
        },
        {
          "metadata": {
            "tags": null
          },
          "name": "stderr",
          "output_type": "stream",
          "text": [
            "\r 30%|███       | 9/30 [05:47<13:46, 39.33s/it]"
          ]
        },
        {
          "metadata": {
            "tags": null
          },
          "name": "stdout",
          "output_type": "stream",
          "text": [
            ">> Ronde 9: total 1006 ulasan terkumpul.\n"
          ]
        },
        {
          "metadata": {
            "tags": null
          },
          "name": "stderr",
          "output_type": "stream",
          "text": [
            "\r 33%|███▎      | 10/30 [06:31<13:30, 40.54s/it]"
          ]
        },
        {
          "metadata": {
            "tags": null
          },
          "name": "stdout",
          "output_type": "stream",
          "text": [
            ">> Ronde 10: total 1016 ulasan terkumpul.\n"
          ]
        },
        {
          "metadata": {
            "tags": null
          },
          "name": "stderr",
          "output_type": "stream",
          "text": [
            "\r 37%|███▋      | 11/30 [07:12<12:56, 40.86s/it]"
          ]
        },
        {
          "metadata": {
            "tags": null
          },
          "name": "stdout",
          "output_type": "stream",
          "text": [
            ">> Ronde 11: total 1026 ulasan terkumpul.\n"
          ]
        },
        {
          "metadata": {
            "tags": null
          },
          "name": "stderr",
          "output_type": "stream",
          "text": [
            "\r 40%|████      | 12/30 [07:56<12:31, 41.77s/it]"
          ]
        },
        {
          "metadata": {
            "tags": null
          },
          "name": "stdout",
          "output_type": "stream",
          "text": [
            ">> Ronde 12: total 1036 ulasan terkumpul.\n"
          ]
        },
        {
          "metadata": {
            "tags": null
          },
          "name": "stderr",
          "output_type": "stream",
          "text": [
            "\r 43%|████▎     | 13/30 [08:38<11:51, 41.84s/it]"
          ]
        },
        {
          "metadata": {
            "tags": null
          },
          "name": "stdout",
          "output_type": "stream",
          "text": [
            ">> Ronde 13: total 1046 ulasan terkumpul.\n"
          ]
        },
        {
          "metadata": {
            "tags": null
          },
          "name": "stderr",
          "output_type": "stream",
          "text": [
            "\r 47%|████▋     | 14/30 [09:27<11:41, 43.85s/it]"
          ]
        },
        {
          "metadata": {
            "tags": null
          },
          "name": "stdout",
          "output_type": "stream",
          "text": [
            ">> Ronde 14: total 1046 ulasan terkumpul.\n"
          ]
        },
        {
          "metadata": {
            "tags": null
          },
          "name": "stderr",
          "output_type": "stream",
          "text": [
            "\r 50%|█████     | 15/30 [10:11<11:00, 44.06s/it]"
          ]
        },
        {
          "metadata": {
            "tags": null
          },
          "name": "stdout",
          "output_type": "stream",
          "text": [
            ">> Ronde 15: total 1066 ulasan terkumpul.\n"
          ]
        },
        {
          "metadata": {
            "tags": null
          },
          "name": "stderr",
          "output_type": "stream",
          "text": [
            "\r 53%|█████▎    | 16/30 [10:56<10:20, 44.34s/it]"
          ]
        },
        {
          "metadata": {
            "tags": null
          },
          "name": "stdout",
          "output_type": "stream",
          "text": [
            ">> Ronde 16: total 1076 ulasan terkumpul.\n"
          ]
        },
        {
          "metadata": {
            "tags": null
          },
          "name": "stderr",
          "output_type": "stream",
          "text": [
            "\r 57%|█████▋    | 17/30 [11:44<09:51, 45.53s/it]"
          ]
        },
        {
          "metadata": {
            "tags": null
          },
          "name": "stdout",
          "output_type": "stream",
          "text": [
            ">> Ronde 17: total 1086 ulasan terkumpul.\n"
          ]
        },
        {
          "metadata": {
            "tags": null
          },
          "name": "stderr",
          "output_type": "stream",
          "text": [
            "\r 60%|██████    | 18/30 [12:33<09:18, 46.52s/it]"
          ]
        },
        {
          "metadata": {
            "tags": null
          },
          "name": "stdout",
          "output_type": "stream",
          "text": [
            ">> Ronde 18: total 1096 ulasan terkumpul.\n"
          ]
        },
        {
          "metadata": {
            "tags": null
          },
          "name": "stderr",
          "output_type": "stream",
          "text": [
            "\r 63%|██████▎   | 19/30 [13:20<08:33, 46.73s/it]"
          ]
        },
        {
          "metadata": {
            "tags": null
          },
          "name": "stdout",
          "output_type": "stream",
          "text": [
            ">> Ronde 19: total 1106 ulasan terkumpul.\n"
          ]
        },
        {
          "metadata": {
            "tags": null
          },
          "name": "stderr",
          "output_type": "stream",
          "text": [
            "\r 67%|██████▋   | 20/30 [14:11<07:59, 47.95s/it]"
          ]
        },
        {
          "metadata": {
            "tags": null
          },
          "name": "stdout",
          "output_type": "stream",
          "text": [
            ">> Ronde 20: total 1116 ulasan terkumpul.\n"
          ]
        },
        {
          "metadata": {
            "tags": null
          },
          "name": "stderr",
          "output_type": "stream",
          "text": [
            "\r 70%|███████   | 21/30 [15:00<07:14, 48.33s/it]"
          ]
        },
        {
          "metadata": {
            "tags": null
          },
          "name": "stdout",
          "output_type": "stream",
          "text": [
            ">> Ronde 21: total 1126 ulasan terkumpul.\n"
          ]
        },
        {
          "metadata": {
            "tags": null
          },
          "name": "stderr",
          "output_type": "stream",
          "text": [
            "\r 73%|███████▎  | 22/30 [15:55<06:41, 50.18s/it]"
          ]
        },
        {
          "metadata": {
            "tags": null
          },
          "name": "stdout",
          "output_type": "stream",
          "text": [
            ">> Ronde 22: total 1136 ulasan terkumpul.\n"
          ]
        },
        {
          "metadata": {
            "tags": null
          },
          "name": "stderr",
          "output_type": "stream",
          "text": [
            "\r 77%|███████▋  | 23/30 [16:44<05:49, 49.96s/it]"
          ]
        },
        {
          "metadata": {
            "tags": null
          },
          "name": "stdout",
          "output_type": "stream",
          "text": [
            ">> Ronde 23: total 1146 ulasan terkumpul.\n"
          ]
        },
        {
          "metadata": {
            "tags": null
          },
          "name": "stderr",
          "output_type": "stream",
          "text": [
            "\r 80%|████████  | 24/30 [17:37<05:05, 50.88s/it]"
          ]
        },
        {
          "metadata": {
            "tags": null
          },
          "name": "stdout",
          "output_type": "stream",
          "text": [
            ">> Ronde 24: total 1156 ulasan terkumpul.\n"
          ]
        },
        {
          "metadata": {
            "tags": null
          },
          "name": "stderr",
          "output_type": "stream",
          "text": [
            "\r 83%|████████▎ | 25/30 [18:28<04:13, 50.78s/it]"
          ]
        },
        {
          "metadata": {
            "tags": null
          },
          "name": "stdout",
          "output_type": "stream",
          "text": [
            ">> Ronde 25: total 1166 ulasan terkumpul.\n"
          ]
        },
        {
          "metadata": {
            "tags": null
          },
          "name": "stderr",
          "output_type": "stream",
          "text": [
            "\r 87%|████████▋ | 26/30 [19:19<03:23, 50.75s/it]"
          ]
        },
        {
          "metadata": {
            "tags": null
          },
          "name": "stdout",
          "output_type": "stream",
          "text": [
            ">> Ronde 26: total 1176 ulasan terkumpul.\n"
          ]
        },
        {
          "metadata": {
            "tags": null
          },
          "name": "stderr",
          "output_type": "stream",
          "text": [
            "\r 90%|█████████ | 27/30 [20:09<02:32, 50.73s/it]"
          ]
        },
        {
          "metadata": {
            "tags": null
          },
          "name": "stdout",
          "output_type": "stream",
          "text": [
            ">> Ronde 27: total 1186 ulasan terkumpul.\n"
          ]
        },
        {
          "metadata": {
            "tags": null
          },
          "name": "stderr",
          "output_type": "stream",
          "text": [
            "\r 93%|█████████▎| 28/30 [21:02<01:42, 51.21s/it]"
          ]
        },
        {
          "metadata": {
            "tags": null
          },
          "name": "stdout",
          "output_type": "stream",
          "text": [
            ">> Ronde 28: total 1196 ulasan terkumpul.\n"
          ]
        },
        {
          "output_type": "stream",
          "name": "stderr",
          "text": [
            "\r 97%|█████████▋| 29/30 [21:55<00:51, 51.71s/it]"
          ]
        },
        {
          "output_type": "stream",
          "name": "stdout",
          "text": [
            ">> Ronde 29: total 1206 ulasan terkumpul.\n"
          ]
        },
        {
          "output_type": "stream",
          "name": "stderr",
          "text": [
            "100%|██████████| 30/30 [22:51<00:00, 45.70s/it]"
          ]
        },
        {
          "output_type": "stream",
          "name": "stdout",
          "text": [
            ">> Ronde 30: total 1216 ulasan terkumpul.\n",
            "\n",
            "Selesai! Total: 1216 ulasan disimpan ke 'reviews_hotel.csv'\n"
          ]
        },
        {
          "output_type": "stream",
          "name": "stderr",
          "text": [
            "\n"
          ]
        }
      ],
      "source": [
        "import time\n",
        "import pandas as pd\n",
        "from tqdm import tqdm\n",
        "from selenium.webdriver.common.by import By\n",
        "\n",
        "def long_scroll_and_extract(driver, target_reviews=1500, max_rounds=30, scroll_pause=2.5, out_csv=\"reviews_hotel.csv\"):\n",
        "    print(\" Mulai proses long scroll...\")\n",
        "\n",
        "    # daftar kemungkinan elemen tempat komentar dimuat\n",
        "    possible_selectors = [\n",
        "        'div.m6QErb.DxyBCb.kA9KIf.dS8AEf',  # versi Google Maps terbaru\n",
        "        'div.section-layout.section-scrollbox.scrollable-y',  # versi lama\n",
        "        '//div[@role=\"main\"]//div[contains(@aria-label,\"Ulasan\")]',  # Bahasa Indonesia\n",
        "        '//div[@role=\"main\"]//div[contains(@aria-label,\"Reviews\")]', # Bahasa Inggris\n",
        "        '//div[contains(@aria-label,\"riview\")]',\n",
        "        '//div[@role=\"main\"]//div[contains(@aria-label,\"Ulasan\")]'\n",
        "# jika typo (contoh: riview)\n",
        "    ]\n",
        "\n",
        "    scrollable = None\n",
        "    for sel in possible_selectors:\n",
        "        try:\n",
        "            if sel.startswith('//'):\n",
        "                scrollable = driver.find_element(By.XPATH, sel)\n",
        "            else:\n",
        "                scrollable = driver.find_element(By.CSS_SELECTOR, sel)\n",
        "            print(f\"Scrollable element ditemukan pakai selector: {sel}\")\n",
        "            break\n",
        "        except:\n",
        "            continue\n",
        "\n",
        "    if not scrollable:\n",
        "        raise Exception(\"Tidak ditemukan area scroll ulasan. Coba pastikan tab 'Ulasan' sudah terbuka di Maps.\")\n",
        "\n",
        "    print(\"Area ulasan ditemukan, mulai scroll...\\n\")\n",
        "\n",
        "    all_reviews = set()\n",
        "    last_height = 0\n",
        "    same_height_rounds = 0\n",
        "\n",
        "    def extract_reviews():\n",
        "        reviews = driver.find_elements(By.XPATH, \"//div[@class='MyEned']/span[@class='wiI7pd']\")\n",
        "        if not reviews:\n",
        "            reviews = driver.find_elements(By.CSS_SELECTOR, \"div.MyEned span.wiI7pd\")\n",
        "        return [r.text.strip() for r in reviews if r.text.strip()]\n",
        "\n",
        "    for i in tqdm(range(max_rounds)):\n",
        "        driver.execute_script(\"arguments[0].scrollTo(0, arguments[0].scrollHeight);\", scrollable)\n",
        "        time.sleep(scroll_pause)\n",
        "\n",
        "        current_height = driver.execute_script(\"return arguments[0].scrollHeight\", scrollable)\n",
        "        if current_height == last_height:\n",
        "            same_height_rounds += 1\n",
        "            if same_height_rounds >= 3:\n",
        "                print(\"Tidak ada perubahan tinggi scroll, berhenti otomatis.\")\n",
        "                break\n",
        "        else:\n",
        "            same_height_rounds = 0\n",
        "        last_height = current_height\n",
        "\n",
        "        reviews = extract_reviews()\n",
        "        for r in reviews:\n",
        "            all_reviews.add(r)\n",
        "\n",
        "        print(f\">> Ronde {i+1}: total {len(all_reviews)} ulasan terkumpul.\")\n",
        "        if len(all_reviews) >= target_reviews:\n",
        "            print(\"Target 1000+ ulasan tercapai!\")\n",
        "            break\n",
        "\n",
        "    df = pd.DataFrame({\"review\": list(all_reviews)})\n",
        "    df.to_csv(out_csv, index=False, encoding=\"utf-8-sig\")\n",
        "    print(f\"\\nSelesai! Total: {len(df)} ulasan disimpan ke '{out_csv}'\")\n",
        "    return df\n",
        "\n",
        "df_all = long_scroll_and_extract(driver, target_reviews=1500, out_csv=\"reviews_hotel.csv\")\n"
      ]
    },
    {
      "cell_type": "code",
      "execution_count": null,
      "metadata": {
        "colab": {
          "base_uri": "https://localhost:8080/"
        },
        "id": "8FX6LF3T_I6f",
        "outputId": "c48a6057-e3b1-435a-9240-a377ff4944d6"
      },
      "outputs": [
        {
          "output_type": "stream",
          "name": "stdout",
          "text": [
            "File berhasil disimpan sebagai: reviews_hotel.xlsx\n",
            "Klik tombol di bawah untuk mengunduh:\n"
          ]
        }
      ],
      "source": [
        "import pandas as pd\n",
        "\n",
        "# memastikan file CSV hasil scraping\n",
        "csv_path = \"reviews_hotel.csv\"\n",
        "excel_path = \"reviews_hotel.xlsx\"\n",
        "\n",
        "# membaca dan konversi ke Excel\n",
        "df = pd.read_csv(csv_path)\n",
        "df.to_excel(excel_path, index=False, engine='openpyxl')\n",
        "\n",
        "print(f\"File berhasil disimpan sebagai: {excel_path}\")\n",
        "print(\"Klik tombol di bawah untuk mengunduh:\")\n",
        "\n",
        "from google.colab import files\n",
        "# files.download(excel_path)\n"
      ]
    },
    {
      "cell_type": "markdown",
      "source": [
        "**CASEFOLDING**"
      ],
      "metadata": {
        "id": "5s7RtpfACw4k"
      }
    },
    {
      "cell_type": "code",
      "source": [
        "import re\n",
        "def casefolding(teks):\n",
        "    teks = teks.lower()\n",
        "    teks = re.sub(r\"http\\S+|www\\S+\", \"\", teks)\n",
        "    teks = re.sub(r\"[^a-zA-Z\\s]\", \" \", teks)\n",
        "    teks = re.sub(r\"\\s+\", \" \", teks).strip()\n",
        "    return teks\n",
        "\n",
        "df[\"Casefold\"] = df[\"review\"].apply(casefolding)\n",
        "df[\"Casefold\"].to_excel(\"reviews_casefolded.xlsx\", index=False, engine='openpyxl')\n",
        "\n",
        "df[[\"review\", \"Casefold\"]].tail(10)\n"
      ],
      "metadata": {
        "colab": {
          "base_uri": "https://localhost:8080/",
          "height": 363
        },
        "id": "NyZXF8jACzVZ",
        "outputId": "a5fb9cc2-d05b-48c5-960c-f3e248282214"
      },
      "execution_count": null,
      "outputs": [
        {
          "output_type": "execute_result",
          "data": {
            "text/plain": [
              "                                                 review  \\\n",
              "1206  The best pengalaman menginap dan semua makanan...   \n",
              "1207  Lokasi hotel yang strategis untuk keperluan bi...   \n",
              "1208  Fasilitasnya luar biasa, dari kamar, pelayanan...   \n",
              "1209  lokasi di pusat kota sangat strategis, service...   \n",
              "1210  Makanannya enak, fasilitas lengkap, kamar cuku...   \n",
              "1211  Kalau bisa tiap lift ada pemandunya (guide) un...   \n",
              "1212  Menu sarapan nya sangat lengkap, rasa nya juga...   \n",
              "1213  tempat renangnya bagus, di atas.\\nmakanan okee...   \n",
              "1214  Sangattt rekomended untuk kesini, makanannya e...   \n",
              "1215  Kamar bersih, nyaman, wifi lancar, Breakfast m...   \n",
              "\n",
              "                                               Casefold  \n",
              "1206  the best pengalaman menginap dan semua makanan...  \n",
              "1207  lokasi hotel yang strategis untuk keperluan bi...  \n",
              "1208  fasilitasnya luar biasa dari kamar pelayanan d...  \n",
              "1209  lokasi di pusat kota sangat strategis services...  \n",
              "1210  makanannya enak fasilitas lengkap kamar cukup ...  \n",
              "1211  kalau bisa tiap lift ada pemandunya guide untu...  \n",
              "1212  menu sarapan nya sangat lengkap rasa nya juga ...  \n",
              "1213  tempat renangnya bagus di atas makanan okee ba...  \n",
              "1214  sangattt rekomended untuk kesini makanannya en...  \n",
              "1215  kamar bersih nyaman wifi lancar breakfast menu...  "
            ],
            "text/html": [
              "\n",
              "  <div id=\"df-4a2bbd87-44f8-4c32-b8b4-96f270e7c0a5\" class=\"colab-df-container\">\n",
              "    <div>\n",
              "<style scoped>\n",
              "    .dataframe tbody tr th:only-of-type {\n",
              "        vertical-align: middle;\n",
              "    }\n",
              "\n",
              "    .dataframe tbody tr th {\n",
              "        vertical-align: top;\n",
              "    }\n",
              "\n",
              "    .dataframe thead th {\n",
              "        text-align: right;\n",
              "    }\n",
              "</style>\n",
              "<table border=\"1\" class=\"dataframe\">\n",
              "  <thead>\n",
              "    <tr style=\"text-align: right;\">\n",
              "      <th></th>\n",
              "      <th>review</th>\n",
              "      <th>Casefold</th>\n",
              "    </tr>\n",
              "  </thead>\n",
              "  <tbody>\n",
              "    <tr>\n",
              "      <th>1206</th>\n",
              "      <td>The best pengalaman menginap dan semua makanan...</td>\n",
              "      <td>the best pengalaman menginap dan semua makanan...</td>\n",
              "    </tr>\n",
              "    <tr>\n",
              "      <th>1207</th>\n",
              "      <td>Lokasi hotel yang strategis untuk keperluan bi...</td>\n",
              "      <td>lokasi hotel yang strategis untuk keperluan bi...</td>\n",
              "    </tr>\n",
              "    <tr>\n",
              "      <th>1208</th>\n",
              "      <td>Fasilitasnya luar biasa, dari kamar, pelayanan...</td>\n",
              "      <td>fasilitasnya luar biasa dari kamar pelayanan d...</td>\n",
              "    </tr>\n",
              "    <tr>\n",
              "      <th>1209</th>\n",
              "      <td>lokasi di pusat kota sangat strategis, service...</td>\n",
              "      <td>lokasi di pusat kota sangat strategis services...</td>\n",
              "    </tr>\n",
              "    <tr>\n",
              "      <th>1210</th>\n",
              "      <td>Makanannya enak, fasilitas lengkap, kamar cuku...</td>\n",
              "      <td>makanannya enak fasilitas lengkap kamar cukup ...</td>\n",
              "    </tr>\n",
              "    <tr>\n",
              "      <th>1211</th>\n",
              "      <td>Kalau bisa tiap lift ada pemandunya (guide) un...</td>\n",
              "      <td>kalau bisa tiap lift ada pemandunya guide untu...</td>\n",
              "    </tr>\n",
              "    <tr>\n",
              "      <th>1212</th>\n",
              "      <td>Menu sarapan nya sangat lengkap, rasa nya juga...</td>\n",
              "      <td>menu sarapan nya sangat lengkap rasa nya juga ...</td>\n",
              "    </tr>\n",
              "    <tr>\n",
              "      <th>1213</th>\n",
              "      <td>tempat renangnya bagus, di atas.\\nmakanan okee...</td>\n",
              "      <td>tempat renangnya bagus di atas makanan okee ba...</td>\n",
              "    </tr>\n",
              "    <tr>\n",
              "      <th>1214</th>\n",
              "      <td>Sangattt rekomended untuk kesini, makanannya e...</td>\n",
              "      <td>sangattt rekomended untuk kesini makanannya en...</td>\n",
              "    </tr>\n",
              "    <tr>\n",
              "      <th>1215</th>\n",
              "      <td>Kamar bersih, nyaman, wifi lancar, Breakfast m...</td>\n",
              "      <td>kamar bersih nyaman wifi lancar breakfast menu...</td>\n",
              "    </tr>\n",
              "  </tbody>\n",
              "</table>\n",
              "</div>\n",
              "    <div class=\"colab-df-buttons\">\n",
              "\n",
              "  <div class=\"colab-df-container\">\n",
              "    <button class=\"colab-df-convert\" onclick=\"convertToInteractive('df-4a2bbd87-44f8-4c32-b8b4-96f270e7c0a5')\"\n",
              "            title=\"Convert this dataframe to an interactive table.\"\n",
              "            style=\"display:none;\">\n",
              "\n",
              "  <svg xmlns=\"http://www.w3.org/2000/svg\" height=\"24px\" viewBox=\"0 -960 960 960\">\n",
              "    <path d=\"M120-120v-720h720v720H120Zm60-500h600v-160H180v160Zm220 220h160v-160H400v160Zm0 220h160v-160H400v160ZM180-400h160v-160H180v160Zm440 0h160v-160H620v160ZM180-180h160v-160H180v160Zm440 0h160v-160H620v160Z\"/>\n",
              "  </svg>\n",
              "    </button>\n",
              "\n",
              "  <style>\n",
              "    .colab-df-container {\n",
              "      display:flex;\n",
              "      gap: 12px;\n",
              "    }\n",
              "\n",
              "    .colab-df-convert {\n",
              "      background-color: #E8F0FE;\n",
              "      border: none;\n",
              "      border-radius: 50%;\n",
              "      cursor: pointer;\n",
              "      display: none;\n",
              "      fill: #1967D2;\n",
              "      height: 32px;\n",
              "      padding: 0 0 0 0;\n",
              "      width: 32px;\n",
              "    }\n",
              "\n",
              "    .colab-df-convert:hover {\n",
              "      background-color: #E2EBFA;\n",
              "      box-shadow: 0px 1px 2px rgba(60, 64, 67, 0.3), 0px 1px 3px 1px rgba(60, 64, 67, 0.15);\n",
              "      fill: #174EA6;\n",
              "    }\n",
              "\n",
              "    .colab-df-buttons div {\n",
              "      margin-bottom: 4px;\n",
              "    }\n",
              "\n",
              "    [theme=dark] .colab-df-convert {\n",
              "      background-color: #3B4455;\n",
              "      fill: #D2E3FC;\n",
              "    }\n",
              "\n",
              "    [theme=dark] .colab-df-convert:hover {\n",
              "      background-color: #434B5C;\n",
              "      box-shadow: 0px 1px 3px 1px rgba(0, 0, 0, 0.15);\n",
              "      filter: drop-shadow(0px 1px 2px rgba(0, 0, 0, 0.3));\n",
              "      fill: #FFFFFF;\n",
              "    }\n",
              "  </style>\n",
              "\n",
              "    <script>\n",
              "      const buttonEl =\n",
              "        document.querySelector('#df-4a2bbd87-44f8-4c32-b8b4-96f270e7c0a5 button.colab-df-convert');\n",
              "      buttonEl.style.display =\n",
              "        google.colab.kernel.accessAllowed ? 'block' : 'none';\n",
              "\n",
              "      async function convertToInteractive(key) {\n",
              "        const element = document.querySelector('#df-4a2bbd87-44f8-4c32-b8b4-96f270e7c0a5');\n",
              "        const dataTable =\n",
              "          await google.colab.kernel.invokeFunction('convertToInteractive',\n",
              "                                                    [key], {});\n",
              "        if (!dataTable) return;\n",
              "\n",
              "        const docLinkHtml = 'Like what you see? Visit the ' +\n",
              "          '<a target=\"_blank\" href=https://colab.research.google.com/notebooks/data_table.ipynb>data table notebook</a>'\n",
              "          + ' to learn more about interactive tables.';\n",
              "        element.innerHTML = '';\n",
              "        dataTable['output_type'] = 'display_data';\n",
              "        await google.colab.output.renderOutput(dataTable, element);\n",
              "        const docLink = document.createElement('div');\n",
              "        docLink.innerHTML = docLinkHtml;\n",
              "        element.appendChild(docLink);\n",
              "      }\n",
              "    </script>\n",
              "  </div>\n",
              "\n",
              "\n",
              "    <div id=\"df-5e9ec55b-3487-4134-a367-da78c2a86cf7\">\n",
              "      <button class=\"colab-df-quickchart\" onclick=\"quickchart('df-5e9ec55b-3487-4134-a367-da78c2a86cf7')\"\n",
              "                title=\"Suggest charts\"\n",
              "                style=\"display:none;\">\n",
              "\n",
              "<svg xmlns=\"http://www.w3.org/2000/svg\" height=\"24px\"viewBox=\"0 0 24 24\"\n",
              "     width=\"24px\">\n",
              "    <g>\n",
              "        <path d=\"M19 3H5c-1.1 0-2 .9-2 2v14c0 1.1.9 2 2 2h14c1.1 0 2-.9 2-2V5c0-1.1-.9-2-2-2zM9 17H7v-7h2v7zm4 0h-2V7h2v10zm4 0h-2v-4h2v4z\"/>\n",
              "    </g>\n",
              "</svg>\n",
              "      </button>\n",
              "\n",
              "<style>\n",
              "  .colab-df-quickchart {\n",
              "      --bg-color: #E8F0FE;\n",
              "      --fill-color: #1967D2;\n",
              "      --hover-bg-color: #E2EBFA;\n",
              "      --hover-fill-color: #174EA6;\n",
              "      --disabled-fill-color: #AAA;\n",
              "      --disabled-bg-color: #DDD;\n",
              "  }\n",
              "\n",
              "  [theme=dark] .colab-df-quickchart {\n",
              "      --bg-color: #3B4455;\n",
              "      --fill-color: #D2E3FC;\n",
              "      --hover-bg-color: #434B5C;\n",
              "      --hover-fill-color: #FFFFFF;\n",
              "      --disabled-bg-color: #3B4455;\n",
              "      --disabled-fill-color: #666;\n",
              "  }\n",
              "\n",
              "  .colab-df-quickchart {\n",
              "    background-color: var(--bg-color);\n",
              "    border: none;\n",
              "    border-radius: 50%;\n",
              "    cursor: pointer;\n",
              "    display: none;\n",
              "    fill: var(--fill-color);\n",
              "    height: 32px;\n",
              "    padding: 0;\n",
              "    width: 32px;\n",
              "  }\n",
              "\n",
              "  .colab-df-quickchart:hover {\n",
              "    background-color: var(--hover-bg-color);\n",
              "    box-shadow: 0 1px 2px rgba(60, 64, 67, 0.3), 0 1px 3px 1px rgba(60, 64, 67, 0.15);\n",
              "    fill: var(--button-hover-fill-color);\n",
              "  }\n",
              "\n",
              "  .colab-df-quickchart-complete:disabled,\n",
              "  .colab-df-quickchart-complete:disabled:hover {\n",
              "    background-color: var(--disabled-bg-color);\n",
              "    fill: var(--disabled-fill-color);\n",
              "    box-shadow: none;\n",
              "  }\n",
              "\n",
              "  .colab-df-spinner {\n",
              "    border: 2px solid var(--fill-color);\n",
              "    border-color: transparent;\n",
              "    border-bottom-color: var(--fill-color);\n",
              "    animation:\n",
              "      spin 1s steps(1) infinite;\n",
              "  }\n",
              "\n",
              "  @keyframes spin {\n",
              "    0% {\n",
              "      border-color: transparent;\n",
              "      border-bottom-color: var(--fill-color);\n",
              "      border-left-color: var(--fill-color);\n",
              "    }\n",
              "    20% {\n",
              "      border-color: transparent;\n",
              "      border-left-color: var(--fill-color);\n",
              "      border-top-color: var(--fill-color);\n",
              "    }\n",
              "    30% {\n",
              "      border-color: transparent;\n",
              "      border-left-color: var(--fill-color);\n",
              "      border-top-color: var(--fill-color);\n",
              "      border-right-color: var(--fill-color);\n",
              "    }\n",
              "    40% {\n",
              "      border-color: transparent;\n",
              "      border-right-color: var(--fill-color);\n",
              "      border-top-color: var(--fill-color);\n",
              "    }\n",
              "    60% {\n",
              "      border-color: transparent;\n",
              "      border-right-color: var(--fill-color);\n",
              "    }\n",
              "    80% {\n",
              "      border-color: transparent;\n",
              "      border-right-color: var(--fill-color);\n",
              "      border-bottom-color: var(--fill-color);\n",
              "    }\n",
              "    90% {\n",
              "      border-color: transparent;\n",
              "      border-bottom-color: var(--fill-color);\n",
              "    }\n",
              "  }\n",
              "</style>\n",
              "\n",
              "      <script>\n",
              "        async function quickchart(key) {\n",
              "          const quickchartButtonEl =\n",
              "            document.querySelector('#' + key + ' button');\n",
              "          quickchartButtonEl.disabled = true;  // To prevent multiple clicks.\n",
              "          quickchartButtonEl.classList.add('colab-df-spinner');\n",
              "          try {\n",
              "            const charts = await google.colab.kernel.invokeFunction(\n",
              "                'suggestCharts', [key], {});\n",
              "          } catch (error) {\n",
              "            console.error('Error during call to suggestCharts:', error);\n",
              "          }\n",
              "          quickchartButtonEl.classList.remove('colab-df-spinner');\n",
              "          quickchartButtonEl.classList.add('colab-df-quickchart-complete');\n",
              "        }\n",
              "        (() => {\n",
              "          let quickchartButtonEl =\n",
              "            document.querySelector('#df-5e9ec55b-3487-4134-a367-da78c2a86cf7 button');\n",
              "          quickchartButtonEl.style.display =\n",
              "            google.colab.kernel.accessAllowed ? 'block' : 'none';\n",
              "        })();\n",
              "      </script>\n",
              "    </div>\n",
              "\n",
              "    </div>\n",
              "  </div>\n"
            ],
            "application/vnd.google.colaboratory.intrinsic+json": {
              "type": "dataframe",
              "summary": "{\n  \"name\": \"df[[\\\"review\\\", \\\"Casefold\\\"]]\",\n  \"rows\": 10,\n  \"fields\": [\n    {\n      \"column\": \"review\",\n      \"properties\": {\n        \"dtype\": \"string\",\n        \"num_unique_values\": 10,\n        \"samples\": [\n          \"Sangattt rekomended untuk kesini, makanannya enak, staff dan pelayanan sangat baik\",\n          \"Lokasi hotel yang strategis untuk keperluan bisnis maupun vacation, pelayanan yg ramah dari staff hotel sangat membantu kami. Thanks to mbak Lena and team..\",\n          \"Kalau bisa tiap lift ada pemandunya (guide) untuk para tamu yang butuh info, terus setelah masuk halaman hotel, lokasi jalan menuju parkir sangat sempit dan menikung tajam tidak ada rambu yang jelas (atau saya yang kurang jelas melihatnya). Kalau bisa rambunya ditaruh pada lokasi yang mudah terlihat pengemudi dan cukup besar.\"\n        ],\n        \"semantic_type\": \"\",\n        \"description\": \"\"\n      }\n    },\n    {\n      \"column\": \"Casefold\",\n      \"properties\": {\n        \"dtype\": \"string\",\n        \"num_unique_values\": 10,\n        \"samples\": [\n          \"sangattt rekomended untuk kesini makanannya enak staff dan pelayanan sangat baik\",\n          \"lokasi hotel yang strategis untuk keperluan bisnis maupun vacation pelayanan yg ramah dari staff hotel sangat membantu kami thanks to mbak lena and team\",\n          \"kalau bisa tiap lift ada pemandunya guide untuk para tamu yang butuh info terus setelah masuk halaman hotel lokasi jalan menuju parkir sangat sempit dan menikung tajam tidak ada rambu yang jelas atau saya yang kurang jelas melihatnya kalau bisa rambunya ditaruh pada lokasi yang mudah terlihat pengemudi dan cukup besar\"\n        ],\n        \"semantic_type\": \"\",\n        \"description\": \"\"\n      }\n    }\n  ]\n}"
            }
          },
          "metadata": {},
          "execution_count": 85
        }
      ]
    },
    {
      "cell_type": "markdown",
      "source": [],
      "metadata": {
        "id": "QrE0m90LNYsr"
      }
    },
    {
      "cell_type": "markdown",
      "source": [
        "#**LANGKAH KE 2 PREPOCESSING**"
      ],
      "metadata": {
        "id": "8FFmus5X-QSg"
      }
    },
    {
      "cell_type": "markdown",
      "source": [
        "**STEMMING**"
      ],
      "metadata": {
        "id": "5QQeMJx5JHhF"
      }
    },
    {
      "cell_type": "code",
      "source": [
        "# !pip install sastrawi"
      ],
      "metadata": {
        "id": "K_ycG7EMJa_3"
      },
      "execution_count": null,
      "outputs": []
    },
    {
      "cell_type": "code",
      "source": [
        "#from Sastrawi.Stemmer.StemmerFactory import StemmerFactory\n",
        "\n",
        "#factory = StemmerFactory()\n",
        "#stemmer = factory.create_stemmer()\n",
        "\n",
        "\n",
        "#df[\"Stemming\"] = df[\"Casefold\"].apply(lambda x: stemmer.stem(x))"
      ],
      "metadata": {
        "id": "TAnNyjUtHUcc"
      },
      "execution_count": null,
      "outputs": []
    },
    {
      "cell_type": "code",
      "source": [
        "df[[\"review\", \"Stemming\"]]"
      ],
      "metadata": {
        "colab": {
          "base_uri": "https://localhost:8080/",
          "height": 423
        },
        "id": "MieJ9wMjQ4CV",
        "outputId": "1dfc4da5-d7d3-4708-c182-3315b3d3b94f"
      },
      "execution_count": null,
      "outputs": [
        {
          "output_type": "execute_result",
          "data": {
            "text/plain": [
              "                                                 review  \\\n",
              "0     Pelayanannya ramah bgtt, fasilitas kamar juga ...   \n",
              "1     Baru kali ini sangat kecewa dengan pelayanan h...   \n",
              "2     Liburan menyenangkan di jogja\\nStay di hotel y...   \n",
              "3     lokasinya juga mantap dekat dengan bandara dan...   \n",
              "4     Saya merekomendasikan anda untuk menginap di h...   \n",
              "...                                                 ...   \n",
              "1211  Kalau bisa tiap lift ada pemandunya (guide) un...   \n",
              "1212  Menu sarapan nya sangat lengkap, rasa nya juga...   \n",
              "1213  tempat renangnya bagus, di atas.\\nmakanan okee...   \n",
              "1214  Sangattt rekomended untuk kesini, makanannya e...   \n",
              "1215  Kamar bersih, nyaman, wifi lancar, Breakfast m...   \n",
              "\n",
              "                                               Stemming  \n",
              "0     layan ramah bgtt fasilitas kamar juga oke reco...  \n",
              "1     baru kali ini sangat kecewa dengan layan hotel...  \n",
              "2     libur senang di jogja stay di hotel yg luar biasa  \n",
              "3     lokasi juga mantap dekat dengan bandara dan te...  \n",
              "4     saya rekomendasi anda untuk inap di hotel ini ...  \n",
              "...                                                 ...  \n",
              "1211  kalau bisa tiap lift ada pandu guide untuk par...  \n",
              "1212  menu sarap nya sangat lengkap rasa nya juga en...  \n",
              "1213  tempat renang bagus di atas makan okee bangett...  \n",
              "1214  sangattt rekomended untuk kesini makan enak st...  \n",
              "1215  kamar bersih nyaman wifi lancar breakfast menu...  \n",
              "\n",
              "[1216 rows x 2 columns]"
            ],
            "text/html": [
              "\n",
              "  <div id=\"df-03ea537e-c00c-44be-9402-6514874eb41b\" class=\"colab-df-container\">\n",
              "    <div>\n",
              "<style scoped>\n",
              "    .dataframe tbody tr th:only-of-type {\n",
              "        vertical-align: middle;\n",
              "    }\n",
              "\n",
              "    .dataframe tbody tr th {\n",
              "        vertical-align: top;\n",
              "    }\n",
              "\n",
              "    .dataframe thead th {\n",
              "        text-align: right;\n",
              "    }\n",
              "</style>\n",
              "<table border=\"1\" class=\"dataframe\">\n",
              "  <thead>\n",
              "    <tr style=\"text-align: right;\">\n",
              "      <th></th>\n",
              "      <th>review</th>\n",
              "      <th>Stemming</th>\n",
              "    </tr>\n",
              "  </thead>\n",
              "  <tbody>\n",
              "    <tr>\n",
              "      <th>0</th>\n",
              "      <td>Pelayanannya ramah bgtt, fasilitas kamar juga ...</td>\n",
              "      <td>layan ramah bgtt fasilitas kamar juga oke reco...</td>\n",
              "    </tr>\n",
              "    <tr>\n",
              "      <th>1</th>\n",
              "      <td>Baru kali ini sangat kecewa dengan pelayanan h...</td>\n",
              "      <td>baru kali ini sangat kecewa dengan layan hotel...</td>\n",
              "    </tr>\n",
              "    <tr>\n",
              "      <th>2</th>\n",
              "      <td>Liburan menyenangkan di jogja\\nStay di hotel y...</td>\n",
              "      <td>libur senang di jogja stay di hotel yg luar biasa</td>\n",
              "    </tr>\n",
              "    <tr>\n",
              "      <th>3</th>\n",
              "      <td>lokasinya juga mantap dekat dengan bandara dan...</td>\n",
              "      <td>lokasi juga mantap dekat dengan bandara dan te...</td>\n",
              "    </tr>\n",
              "    <tr>\n",
              "      <th>4</th>\n",
              "      <td>Saya merekomendasikan anda untuk menginap di h...</td>\n",
              "      <td>saya rekomendasi anda untuk inap di hotel ini ...</td>\n",
              "    </tr>\n",
              "    <tr>\n",
              "      <th>...</th>\n",
              "      <td>...</td>\n",
              "      <td>...</td>\n",
              "    </tr>\n",
              "    <tr>\n",
              "      <th>1211</th>\n",
              "      <td>Kalau bisa tiap lift ada pemandunya (guide) un...</td>\n",
              "      <td>kalau bisa tiap lift ada pandu guide untuk par...</td>\n",
              "    </tr>\n",
              "    <tr>\n",
              "      <th>1212</th>\n",
              "      <td>Menu sarapan nya sangat lengkap, rasa nya juga...</td>\n",
              "      <td>menu sarap nya sangat lengkap rasa nya juga en...</td>\n",
              "    </tr>\n",
              "    <tr>\n",
              "      <th>1213</th>\n",
              "      <td>tempat renangnya bagus, di atas.\\nmakanan okee...</td>\n",
              "      <td>tempat renang bagus di atas makan okee bangett...</td>\n",
              "    </tr>\n",
              "    <tr>\n",
              "      <th>1214</th>\n",
              "      <td>Sangattt rekomended untuk kesini, makanannya e...</td>\n",
              "      <td>sangattt rekomended untuk kesini makan enak st...</td>\n",
              "    </tr>\n",
              "    <tr>\n",
              "      <th>1215</th>\n",
              "      <td>Kamar bersih, nyaman, wifi lancar, Breakfast m...</td>\n",
              "      <td>kamar bersih nyaman wifi lancar breakfast menu...</td>\n",
              "    </tr>\n",
              "  </tbody>\n",
              "</table>\n",
              "<p>1216 rows × 2 columns</p>\n",
              "</div>\n",
              "    <div class=\"colab-df-buttons\">\n",
              "\n",
              "  <div class=\"colab-df-container\">\n",
              "    <button class=\"colab-df-convert\" onclick=\"convertToInteractive('df-03ea537e-c00c-44be-9402-6514874eb41b')\"\n",
              "            title=\"Convert this dataframe to an interactive table.\"\n",
              "            style=\"display:none;\">\n",
              "\n",
              "  <svg xmlns=\"http://www.w3.org/2000/svg\" height=\"24px\" viewBox=\"0 -960 960 960\">\n",
              "    <path d=\"M120-120v-720h720v720H120Zm60-500h600v-160H180v160Zm220 220h160v-160H400v160Zm0 220h160v-160H400v160ZM180-400h160v-160H180v160Zm440 0h160v-160H620v160ZM180-180h160v-160H180v160Zm440 0h160v-160H620v160Z\"/>\n",
              "  </svg>\n",
              "    </button>\n",
              "\n",
              "  <style>\n",
              "    .colab-df-container {\n",
              "      display:flex;\n",
              "      gap: 12px;\n",
              "    }\n",
              "\n",
              "    .colab-df-convert {\n",
              "      background-color: #E8F0FE;\n",
              "      border: none;\n",
              "      border-radius: 50%;\n",
              "      cursor: pointer;\n",
              "      display: none;\n",
              "      fill: #1967D2;\n",
              "      height: 32px;\n",
              "      padding: 0 0 0 0;\n",
              "      width: 32px;\n",
              "    }\n",
              "\n",
              "    .colab-df-convert:hover {\n",
              "      background-color: #E2EBFA;\n",
              "      box-shadow: 0px 1px 2px rgba(60, 64, 67, 0.3), 0px 1px 3px 1px rgba(60, 64, 67, 0.15);\n",
              "      fill: #174EA6;\n",
              "    }\n",
              "\n",
              "    .colab-df-buttons div {\n",
              "      margin-bottom: 4px;\n",
              "    }\n",
              "\n",
              "    [theme=dark] .colab-df-convert {\n",
              "      background-color: #3B4455;\n",
              "      fill: #D2E3FC;\n",
              "    }\n",
              "\n",
              "    [theme=dark] .colab-df-convert:hover {\n",
              "      background-color: #434B5C;\n",
              "      box-shadow: 0px 1px 3px 1px rgba(0, 0, 0, 0.15);\n",
              "      filter: drop-shadow(0px 1px 2px rgba(0, 0, 0, 0.3));\n",
              "      fill: #FFFFFF;\n",
              "    }\n",
              "  </style>\n",
              "\n",
              "    <script>\n",
              "      const buttonEl =\n",
              "        document.querySelector('#df-03ea537e-c00c-44be-9402-6514874eb41b button.colab-df-convert');\n",
              "      buttonEl.style.display =\n",
              "        google.colab.kernel.accessAllowed ? 'block' : 'none';\n",
              "\n",
              "      async function convertToInteractive(key) {\n",
              "        const element = document.querySelector('#df-03ea537e-c00c-44be-9402-6514874eb41b');\n",
              "        const dataTable =\n",
              "          await google.colab.kernel.invokeFunction('convertToInteractive',\n",
              "                                                    [key], {});\n",
              "        if (!dataTable) return;\n",
              "\n",
              "        const docLinkHtml = 'Like what you see? Visit the ' +\n",
              "          '<a target=\"_blank\" href=https://colab.research.google.com/notebooks/data_table.ipynb>data table notebook</a>'\n",
              "          + ' to learn more about interactive tables.';\n",
              "        element.innerHTML = '';\n",
              "        dataTable['output_type'] = 'display_data';\n",
              "        await google.colab.output.renderOutput(dataTable, element);\n",
              "        const docLink = document.createElement('div');\n",
              "        docLink.innerHTML = docLinkHtml;\n",
              "        element.appendChild(docLink);\n",
              "      }\n",
              "    </script>\n",
              "  </div>\n",
              "\n",
              "\n",
              "    <div id=\"df-8b953535-678a-4158-b038-b0f53f59a393\">\n",
              "      <button class=\"colab-df-quickchart\" onclick=\"quickchart('df-8b953535-678a-4158-b038-b0f53f59a393')\"\n",
              "                title=\"Suggest charts\"\n",
              "                style=\"display:none;\">\n",
              "\n",
              "<svg xmlns=\"http://www.w3.org/2000/svg\" height=\"24px\"viewBox=\"0 0 24 24\"\n",
              "     width=\"24px\">\n",
              "    <g>\n",
              "        <path d=\"M19 3H5c-1.1 0-2 .9-2 2v14c0 1.1.9 2 2 2h14c1.1 0 2-.9 2-2V5c0-1.1-.9-2-2-2zM9 17H7v-7h2v7zm4 0h-2V7h2v10zm4 0h-2v-4h2v4z\"/>\n",
              "    </g>\n",
              "</svg>\n",
              "      </button>\n",
              "\n",
              "<style>\n",
              "  .colab-df-quickchart {\n",
              "      --bg-color: #E8F0FE;\n",
              "      --fill-color: #1967D2;\n",
              "      --hover-bg-color: #E2EBFA;\n",
              "      --hover-fill-color: #174EA6;\n",
              "      --disabled-fill-color: #AAA;\n",
              "      --disabled-bg-color: #DDD;\n",
              "  }\n",
              "\n",
              "  [theme=dark] .colab-df-quickchart {\n",
              "      --bg-color: #3B4455;\n",
              "      --fill-color: #D2E3FC;\n",
              "      --hover-bg-color: #434B5C;\n",
              "      --hover-fill-color: #FFFFFF;\n",
              "      --disabled-bg-color: #3B4455;\n",
              "      --disabled-fill-color: #666;\n",
              "  }\n",
              "\n",
              "  .colab-df-quickchart {\n",
              "    background-color: var(--bg-color);\n",
              "    border: none;\n",
              "    border-radius: 50%;\n",
              "    cursor: pointer;\n",
              "    display: none;\n",
              "    fill: var(--fill-color);\n",
              "    height: 32px;\n",
              "    padding: 0;\n",
              "    width: 32px;\n",
              "  }\n",
              "\n",
              "  .colab-df-quickchart:hover {\n",
              "    background-color: var(--hover-bg-color);\n",
              "    box-shadow: 0 1px 2px rgba(60, 64, 67, 0.3), 0 1px 3px 1px rgba(60, 64, 67, 0.15);\n",
              "    fill: var(--button-hover-fill-color);\n",
              "  }\n",
              "\n",
              "  .colab-df-quickchart-complete:disabled,\n",
              "  .colab-df-quickchart-complete:disabled:hover {\n",
              "    background-color: var(--disabled-bg-color);\n",
              "    fill: var(--disabled-fill-color);\n",
              "    box-shadow: none;\n",
              "  }\n",
              "\n",
              "  .colab-df-spinner {\n",
              "    border: 2px solid var(--fill-color);\n",
              "    border-color: transparent;\n",
              "    border-bottom-color: var(--fill-color);\n",
              "    animation:\n",
              "      spin 1s steps(1) infinite;\n",
              "  }\n",
              "\n",
              "  @keyframes spin {\n",
              "    0% {\n",
              "      border-color: transparent;\n",
              "      border-bottom-color: var(--fill-color);\n",
              "      border-left-color: var(--fill-color);\n",
              "    }\n",
              "    20% {\n",
              "      border-color: transparent;\n",
              "      border-left-color: var(--fill-color);\n",
              "      border-top-color: var(--fill-color);\n",
              "    }\n",
              "    30% {\n",
              "      border-color: transparent;\n",
              "      border-left-color: var(--fill-color);\n",
              "      border-top-color: var(--fill-color);\n",
              "      border-right-color: var(--fill-color);\n",
              "    }\n",
              "    40% {\n",
              "      border-color: transparent;\n",
              "      border-right-color: var(--fill-color);\n",
              "      border-top-color: var(--fill-color);\n",
              "    }\n",
              "    60% {\n",
              "      border-color: transparent;\n",
              "      border-right-color: var(--fill-color);\n",
              "    }\n",
              "    80% {\n",
              "      border-color: transparent;\n",
              "      border-right-color: var(--fill-color);\n",
              "      border-bottom-color: var(--fill-color);\n",
              "    }\n",
              "    90% {\n",
              "      border-color: transparent;\n",
              "      border-bottom-color: var(--fill-color);\n",
              "    }\n",
              "  }\n",
              "</style>\n",
              "\n",
              "      <script>\n",
              "        async function quickchart(key) {\n",
              "          const quickchartButtonEl =\n",
              "            document.querySelector('#' + key + ' button');\n",
              "          quickchartButtonEl.disabled = true;  // To prevent multiple clicks.\n",
              "          quickchartButtonEl.classList.add('colab-df-spinner');\n",
              "          try {\n",
              "            const charts = await google.colab.kernel.invokeFunction(\n",
              "                'suggestCharts', [key], {});\n",
              "          } catch (error) {\n",
              "            console.error('Error during call to suggestCharts:', error);\n",
              "          }\n",
              "          quickchartButtonEl.classList.remove('colab-df-spinner');\n",
              "          quickchartButtonEl.classList.add('colab-df-quickchart-complete');\n",
              "        }\n",
              "        (() => {\n",
              "          let quickchartButtonEl =\n",
              "            document.querySelector('#df-8b953535-678a-4158-b038-b0f53f59a393 button');\n",
              "          quickchartButtonEl.style.display =\n",
              "            google.colab.kernel.accessAllowed ? 'block' : 'none';\n",
              "        })();\n",
              "      </script>\n",
              "    </div>\n",
              "\n",
              "    </div>\n",
              "  </div>\n"
            ],
            "application/vnd.google.colaboratory.intrinsic+json": {
              "type": "dataframe",
              "summary": "{\n  \"name\": \"df[[\\\"review\\\", \\\"Stemming\\\"]]\",\n  \"rows\": 1216,\n  \"fields\": [\n    {\n      \"column\": \"review\",\n      \"properties\": {\n        \"dtype\": \"string\",\n        \"num_unique_values\": 1216,\n        \"samples\": [\n          \"Hotel ternyaman di jogja, fasilitas lengkap dan pelayanan ramah. Hanya saja jarak ke pusat wisata malioboro lumayan jauh.\\nSelebihnya \\u2b50\\ufe0f5\",\n          \"Kelihatan manajemen hotel belum siap terima rombongan banyak.\\nBanyak peserta sampai jam 4 sore belum bisa Cek in.\\nKuantitas makanan cukup banyak, tapi rasanya kurang terasa enak untuk kelas hotel berbintang.\",\n          \"Overall experiencenya memuaskan, breakfast variatif dan kamar spacey dan bersih. khusus balkon kalau mau buka pintunya by request ke resepsionis ya.\"\n        ],\n        \"semantic_type\": \"\",\n        \"description\": \"\"\n      }\n    },\n    {\n      \"column\": \"Stemming\",\n      \"properties\": {\n        \"dtype\": \"string\",\n        \"num_unique_values\": 1216,\n        \"samples\": [\n          \"hotel nyaman di jogja fasilitas lengkap dan layan ramah hanya saja jarak ke pusat wisata malioboro lumayan jauh lebih\",\n          \"lihat manajemen hotel belum siap terima rombong banyak banyak serta sampai jam sore belum bisa cek in kuantitas makan cukup banyak tapi rasa kurang asa enak untuk kelas hotel bintang\",\n          \"overall experiencenya muas breakfast variatif dan kamar spacey dan bersih khusus balkon kalau mau buka pintu by request ke resepsionis ya\"\n        ],\n        \"semantic_type\": \"\",\n        \"description\": \"\"\n      }\n    }\n  ]\n}"
            }
          },
          "metadata": {},
          "execution_count": 74
        }
      ]
    },
    {
      "cell_type": "markdown",
      "source": [
        "**FILTERING**"
      ],
      "metadata": {
        "id": "OXQ1dLlsNBGS"
      }
    },
    {
      "cell_type": "code",
      "source": [
        "from Sastrawi.StopWordRemover.StopWordRemoverFactory import StopWordRemoverFactory\n",
        "\n",
        "stop_factory = StopWordRemoverFactory()\n",
        "stop_remover = stop_factory.create_stop_word_remover()\n",
        "\n",
        "df[\"Filtering\"] = df[\"Stemming\"].apply(lambda x: stop_remover.remove(x))"
      ],
      "metadata": {
        "id": "waNh_eO6ORau"
      },
      "execution_count": null,
      "outputs": []
    },
    {
      "cell_type": "code",
      "source": [
        "df[[\"review\",\"Filtering\"]]"
      ],
      "metadata": {
        "colab": {
          "base_uri": "https://localhost:8080/",
          "height": 423
        },
        "id": "kZvzejz4RCY4",
        "outputId": "4e5d6b92-ec8f-47e8-c124-1751e96b984d"
      },
      "execution_count": null,
      "outputs": [
        {
          "output_type": "execute_result",
          "data": {
            "text/plain": [
              "                                                 review  \\\n",
              "0     Pelayanannya ramah bgtt, fasilitas kamar juga ...   \n",
              "1     Baru kali ini sangat kecewa dengan pelayanan h...   \n",
              "2     Liburan menyenangkan di jogja\\nStay di hotel y...   \n",
              "3     lokasinya juga mantap dekat dengan bandara dan...   \n",
              "4     Saya merekomendasikan anda untuk menginap di h...   \n",
              "...                                                 ...   \n",
              "1211  Kalau bisa tiap lift ada pemandunya (guide) un...   \n",
              "1212  Menu sarapan nya sangat lengkap, rasa nya juga...   \n",
              "1213  tempat renangnya bagus, di atas.\\nmakanan okee...   \n",
              "1214  Sangattt rekomended untuk kesini, makanannya e...   \n",
              "1215  Kamar bersih, nyaman, wifi lancar, Breakfast m...   \n",
              "\n",
              "                                              Filtering  \n",
              "0     layan ramah bgtt fasilitas kamar oke recommend...  \n",
              "1     baru kali sangat kecewa layan hotel mercure ko...  \n",
              "2           libur senang jogja stay hotel yg luar biasa  \n",
              "3     lokasi mantap dekat bandara tempat tempat wisa...  \n",
              "4     rekomendasi untuk inap hotel layan bagus ramah...  \n",
              "...                                                 ...  \n",
              "1211  kalau tiap lift pandu guide para tamu butuh in...  \n",
              "1212  menu sarap nya sangat lengkap rasa nya enak da...  \n",
              "1213  tempat renang bagus atas makan okee bangetttt ...  \n",
              "1214  sangattt rekomended kesini makan enak staff la...  \n",
              "1215  kamar bersih nyaman wifi lancar breakfast menu...  \n",
              "\n",
              "[1216 rows x 2 columns]"
            ],
            "text/html": [
              "\n",
              "  <div id=\"df-7399f2f3-a5cb-4f2a-aa58-6f3410cd55a0\" class=\"colab-df-container\">\n",
              "    <div>\n",
              "<style scoped>\n",
              "    .dataframe tbody tr th:only-of-type {\n",
              "        vertical-align: middle;\n",
              "    }\n",
              "\n",
              "    .dataframe tbody tr th {\n",
              "        vertical-align: top;\n",
              "    }\n",
              "\n",
              "    .dataframe thead th {\n",
              "        text-align: right;\n",
              "    }\n",
              "</style>\n",
              "<table border=\"1\" class=\"dataframe\">\n",
              "  <thead>\n",
              "    <tr style=\"text-align: right;\">\n",
              "      <th></th>\n",
              "      <th>review</th>\n",
              "      <th>Filtering</th>\n",
              "    </tr>\n",
              "  </thead>\n",
              "  <tbody>\n",
              "    <tr>\n",
              "      <th>0</th>\n",
              "      <td>Pelayanannya ramah bgtt, fasilitas kamar juga ...</td>\n",
              "      <td>layan ramah bgtt fasilitas kamar oke recommend...</td>\n",
              "    </tr>\n",
              "    <tr>\n",
              "      <th>1</th>\n",
              "      <td>Baru kali ini sangat kecewa dengan pelayanan h...</td>\n",
              "      <td>baru kali sangat kecewa layan hotel mercure ko...</td>\n",
              "    </tr>\n",
              "    <tr>\n",
              "      <th>2</th>\n",
              "      <td>Liburan menyenangkan di jogja\\nStay di hotel y...</td>\n",
              "      <td>libur senang jogja stay hotel yg luar biasa</td>\n",
              "    </tr>\n",
              "    <tr>\n",
              "      <th>3</th>\n",
              "      <td>lokasinya juga mantap dekat dengan bandara dan...</td>\n",
              "      <td>lokasi mantap dekat bandara tempat tempat wisa...</td>\n",
              "    </tr>\n",
              "    <tr>\n",
              "      <th>4</th>\n",
              "      <td>Saya merekomendasikan anda untuk menginap di h...</td>\n",
              "      <td>rekomendasi untuk inap hotel layan bagus ramah...</td>\n",
              "    </tr>\n",
              "    <tr>\n",
              "      <th>...</th>\n",
              "      <td>...</td>\n",
              "      <td>...</td>\n",
              "    </tr>\n",
              "    <tr>\n",
              "      <th>1211</th>\n",
              "      <td>Kalau bisa tiap lift ada pemandunya (guide) un...</td>\n",
              "      <td>kalau tiap lift pandu guide para tamu butuh in...</td>\n",
              "    </tr>\n",
              "    <tr>\n",
              "      <th>1212</th>\n",
              "      <td>Menu sarapan nya sangat lengkap, rasa nya juga...</td>\n",
              "      <td>menu sarap nya sangat lengkap rasa nya enak da...</td>\n",
              "    </tr>\n",
              "    <tr>\n",
              "      <th>1213</th>\n",
              "      <td>tempat renangnya bagus, di atas.\\nmakanan okee...</td>\n",
              "      <td>tempat renang bagus atas makan okee bangetttt ...</td>\n",
              "    </tr>\n",
              "    <tr>\n",
              "      <th>1214</th>\n",
              "      <td>Sangattt rekomended untuk kesini, makanannya e...</td>\n",
              "      <td>sangattt rekomended kesini makan enak staff la...</td>\n",
              "    </tr>\n",
              "    <tr>\n",
              "      <th>1215</th>\n",
              "      <td>Kamar bersih, nyaman, wifi lancar, Breakfast m...</td>\n",
              "      <td>kamar bersih nyaman wifi lancar breakfast menu...</td>\n",
              "    </tr>\n",
              "  </tbody>\n",
              "</table>\n",
              "<p>1216 rows × 2 columns</p>\n",
              "</div>\n",
              "    <div class=\"colab-df-buttons\">\n",
              "\n",
              "  <div class=\"colab-df-container\">\n",
              "    <button class=\"colab-df-convert\" onclick=\"convertToInteractive('df-7399f2f3-a5cb-4f2a-aa58-6f3410cd55a0')\"\n",
              "            title=\"Convert this dataframe to an interactive table.\"\n",
              "            style=\"display:none;\">\n",
              "\n",
              "  <svg xmlns=\"http://www.w3.org/2000/svg\" height=\"24px\" viewBox=\"0 -960 960 960\">\n",
              "    <path d=\"M120-120v-720h720v720H120Zm60-500h600v-160H180v160Zm220 220h160v-160H400v160Zm0 220h160v-160H400v160ZM180-400h160v-160H180v160Zm440 0h160v-160H620v160ZM180-180h160v-160H180v160Zm440 0h160v-160H620v160Z\"/>\n",
              "  </svg>\n",
              "    </button>\n",
              "\n",
              "  <style>\n",
              "    .colab-df-container {\n",
              "      display:flex;\n",
              "      gap: 12px;\n",
              "    }\n",
              "\n",
              "    .colab-df-convert {\n",
              "      background-color: #E8F0FE;\n",
              "      border: none;\n",
              "      border-radius: 50%;\n",
              "      cursor: pointer;\n",
              "      display: none;\n",
              "      fill: #1967D2;\n",
              "      height: 32px;\n",
              "      padding: 0 0 0 0;\n",
              "      width: 32px;\n",
              "    }\n",
              "\n",
              "    .colab-df-convert:hover {\n",
              "      background-color: #E2EBFA;\n",
              "      box-shadow: 0px 1px 2px rgba(60, 64, 67, 0.3), 0px 1px 3px 1px rgba(60, 64, 67, 0.15);\n",
              "      fill: #174EA6;\n",
              "    }\n",
              "\n",
              "    .colab-df-buttons div {\n",
              "      margin-bottom: 4px;\n",
              "    }\n",
              "\n",
              "    [theme=dark] .colab-df-convert {\n",
              "      background-color: #3B4455;\n",
              "      fill: #D2E3FC;\n",
              "    }\n",
              "\n",
              "    [theme=dark] .colab-df-convert:hover {\n",
              "      background-color: #434B5C;\n",
              "      box-shadow: 0px 1px 3px 1px rgba(0, 0, 0, 0.15);\n",
              "      filter: drop-shadow(0px 1px 2px rgba(0, 0, 0, 0.3));\n",
              "      fill: #FFFFFF;\n",
              "    }\n",
              "  </style>\n",
              "\n",
              "    <script>\n",
              "      const buttonEl =\n",
              "        document.querySelector('#df-7399f2f3-a5cb-4f2a-aa58-6f3410cd55a0 button.colab-df-convert');\n",
              "      buttonEl.style.display =\n",
              "        google.colab.kernel.accessAllowed ? 'block' : 'none';\n",
              "\n",
              "      async function convertToInteractive(key) {\n",
              "        const element = document.querySelector('#df-7399f2f3-a5cb-4f2a-aa58-6f3410cd55a0');\n",
              "        const dataTable =\n",
              "          await google.colab.kernel.invokeFunction('convertToInteractive',\n",
              "                                                    [key], {});\n",
              "        if (!dataTable) return;\n",
              "\n",
              "        const docLinkHtml = 'Like what you see? Visit the ' +\n",
              "          '<a target=\"_blank\" href=https://colab.research.google.com/notebooks/data_table.ipynb>data table notebook</a>'\n",
              "          + ' to learn more about interactive tables.';\n",
              "        element.innerHTML = '';\n",
              "        dataTable['output_type'] = 'display_data';\n",
              "        await google.colab.output.renderOutput(dataTable, element);\n",
              "        const docLink = document.createElement('div');\n",
              "        docLink.innerHTML = docLinkHtml;\n",
              "        element.appendChild(docLink);\n",
              "      }\n",
              "    </script>\n",
              "  </div>\n",
              "\n",
              "\n",
              "    <div id=\"df-bec778e3-20b8-4147-b0c8-b68861f5ca75\">\n",
              "      <button class=\"colab-df-quickchart\" onclick=\"quickchart('df-bec778e3-20b8-4147-b0c8-b68861f5ca75')\"\n",
              "                title=\"Suggest charts\"\n",
              "                style=\"display:none;\">\n",
              "\n",
              "<svg xmlns=\"http://www.w3.org/2000/svg\" height=\"24px\"viewBox=\"0 0 24 24\"\n",
              "     width=\"24px\">\n",
              "    <g>\n",
              "        <path d=\"M19 3H5c-1.1 0-2 .9-2 2v14c0 1.1.9 2 2 2h14c1.1 0 2-.9 2-2V5c0-1.1-.9-2-2-2zM9 17H7v-7h2v7zm4 0h-2V7h2v10zm4 0h-2v-4h2v4z\"/>\n",
              "    </g>\n",
              "</svg>\n",
              "      </button>\n",
              "\n",
              "<style>\n",
              "  .colab-df-quickchart {\n",
              "      --bg-color: #E8F0FE;\n",
              "      --fill-color: #1967D2;\n",
              "      --hover-bg-color: #E2EBFA;\n",
              "      --hover-fill-color: #174EA6;\n",
              "      --disabled-fill-color: #AAA;\n",
              "      --disabled-bg-color: #DDD;\n",
              "  }\n",
              "\n",
              "  [theme=dark] .colab-df-quickchart {\n",
              "      --bg-color: #3B4455;\n",
              "      --fill-color: #D2E3FC;\n",
              "      --hover-bg-color: #434B5C;\n",
              "      --hover-fill-color: #FFFFFF;\n",
              "      --disabled-bg-color: #3B4455;\n",
              "      --disabled-fill-color: #666;\n",
              "  }\n",
              "\n",
              "  .colab-df-quickchart {\n",
              "    background-color: var(--bg-color);\n",
              "    border: none;\n",
              "    border-radius: 50%;\n",
              "    cursor: pointer;\n",
              "    display: none;\n",
              "    fill: var(--fill-color);\n",
              "    height: 32px;\n",
              "    padding: 0;\n",
              "    width: 32px;\n",
              "  }\n",
              "\n",
              "  .colab-df-quickchart:hover {\n",
              "    background-color: var(--hover-bg-color);\n",
              "    box-shadow: 0 1px 2px rgba(60, 64, 67, 0.3), 0 1px 3px 1px rgba(60, 64, 67, 0.15);\n",
              "    fill: var(--button-hover-fill-color);\n",
              "  }\n",
              "\n",
              "  .colab-df-quickchart-complete:disabled,\n",
              "  .colab-df-quickchart-complete:disabled:hover {\n",
              "    background-color: var(--disabled-bg-color);\n",
              "    fill: var(--disabled-fill-color);\n",
              "    box-shadow: none;\n",
              "  }\n",
              "\n",
              "  .colab-df-spinner {\n",
              "    border: 2px solid var(--fill-color);\n",
              "    border-color: transparent;\n",
              "    border-bottom-color: var(--fill-color);\n",
              "    animation:\n",
              "      spin 1s steps(1) infinite;\n",
              "  }\n",
              "\n",
              "  @keyframes spin {\n",
              "    0% {\n",
              "      border-color: transparent;\n",
              "      border-bottom-color: var(--fill-color);\n",
              "      border-left-color: var(--fill-color);\n",
              "    }\n",
              "    20% {\n",
              "      border-color: transparent;\n",
              "      border-left-color: var(--fill-color);\n",
              "      border-top-color: var(--fill-color);\n",
              "    }\n",
              "    30% {\n",
              "      border-color: transparent;\n",
              "      border-left-color: var(--fill-color);\n",
              "      border-top-color: var(--fill-color);\n",
              "      border-right-color: var(--fill-color);\n",
              "    }\n",
              "    40% {\n",
              "      border-color: transparent;\n",
              "      border-right-color: var(--fill-color);\n",
              "      border-top-color: var(--fill-color);\n",
              "    }\n",
              "    60% {\n",
              "      border-color: transparent;\n",
              "      border-right-color: var(--fill-color);\n",
              "    }\n",
              "    80% {\n",
              "      border-color: transparent;\n",
              "      border-right-color: var(--fill-color);\n",
              "      border-bottom-color: var(--fill-color);\n",
              "    }\n",
              "    90% {\n",
              "      border-color: transparent;\n",
              "      border-bottom-color: var(--fill-color);\n",
              "    }\n",
              "  }\n",
              "</style>\n",
              "\n",
              "      <script>\n",
              "        async function quickchart(key) {\n",
              "          const quickchartButtonEl =\n",
              "            document.querySelector('#' + key + ' button');\n",
              "          quickchartButtonEl.disabled = true;  // To prevent multiple clicks.\n",
              "          quickchartButtonEl.classList.add('colab-df-spinner');\n",
              "          try {\n",
              "            const charts = await google.colab.kernel.invokeFunction(\n",
              "                'suggestCharts', [key], {});\n",
              "          } catch (error) {\n",
              "            console.error('Error during call to suggestCharts:', error);\n",
              "          }\n",
              "          quickchartButtonEl.classList.remove('colab-df-spinner');\n",
              "          quickchartButtonEl.classList.add('colab-df-quickchart-complete');\n",
              "        }\n",
              "        (() => {\n",
              "          let quickchartButtonEl =\n",
              "            document.querySelector('#df-bec778e3-20b8-4147-b0c8-b68861f5ca75 button');\n",
              "          quickchartButtonEl.style.display =\n",
              "            google.colab.kernel.accessAllowed ? 'block' : 'none';\n",
              "        })();\n",
              "      </script>\n",
              "    </div>\n",
              "\n",
              "    </div>\n",
              "  </div>\n"
            ],
            "application/vnd.google.colaboratory.intrinsic+json": {
              "type": "dataframe",
              "summary": "{\n  \"name\": \"df[[\\\"review\\\",\\\"Filtering\\\"]]\",\n  \"rows\": 1216,\n  \"fields\": [\n    {\n      \"column\": \"review\",\n      \"properties\": {\n        \"dtype\": \"string\",\n        \"num_unique_values\": 1216,\n        \"samples\": [\n          \"Hotel ternyaman di jogja, fasilitas lengkap dan pelayanan ramah. Hanya saja jarak ke pusat wisata malioboro lumayan jauh.\\nSelebihnya \\u2b50\\ufe0f5\",\n          \"Kelihatan manajemen hotel belum siap terima rombongan banyak.\\nBanyak peserta sampai jam 4 sore belum bisa Cek in.\\nKuantitas makanan cukup banyak, tapi rasanya kurang terasa enak untuk kelas hotel berbintang.\",\n          \"Overall experiencenya memuaskan, breakfast variatif dan kamar spacey dan bersih. khusus balkon kalau mau buka pintunya by request ke resepsionis ya.\"\n        ],\n        \"semantic_type\": \"\",\n        \"description\": \"\"\n      }\n    },\n    {\n      \"column\": \"Filtering\",\n      \"properties\": {\n        \"dtype\": \"string\",\n        \"num_unique_values\": 1215,\n        \"samples\": [\n          \"layan semua baik resto komplit makan semua enak\",\n          \"makan enak layan bagus kamar bau rokok mgkn sblmnya yg rokok internet kamar lambat banget tv ga jernih kabur bintik\",\n          \"overall experiencenya muas breakfast variatif kamar spacey bersih khusus balkon kalau mau buka pintu by request resepsionis\"\n        ],\n        \"semantic_type\": \"\",\n        \"description\": \"\"\n      }\n    }\n  ]\n}"
            }
          },
          "metadata": {},
          "execution_count": 76
        }
      ]
    },
    {
      "cell_type": "code",
      "source": [
        "# import re\n",
        "# import nltk\n",
        "# from nltk.corpus import stopwords"
      ],
      "metadata": {
        "id": "rcFZEU60GsMZ"
      },
      "execution_count": null,
      "outputs": []
    },
    {
      "cell_type": "code",
      "source": [
        "# nltk.download('stopwords')\n",
        "# id_words = set(stopwords.words('indonesian'))\n",
        "# eng_words = set(stopwords.words('english'))\n",
        "\n",
        "# # Tambahin daftar kata ga baku yg disingkat singkat\n",
        "# custom_stopwords = {\n",
        "#     'yg', 'sy', 'sdh', 'udh', 'dgn', 'dg', 'aja', 'nih', 'sih', 'sihh', 'nihh', 'ajaa', 'eh', 'ehh', 'ehhh',\n",
        "#     'dong', 'tp', 'gk', 'ga', 'nggak', 'knp', 'trs', 'aja', 'bgt', 'nya', 'rp', 'bgt', 'bgtt', 'bgttt', 'jgn',\n",
        "#     'bgtttt', 'sii', 'si', 'sih', 'siii', 'sihh', 'sihhh', 'jg', 'aj', 'tp', 'tpi', 'tuu', 'tuuu', 'tuhh', 'jgnn',\n",
        "#     'nya', 'nih', 'loh', 'kok', 'lah', 'deh', 'kan', 'ya', 'yaa', 'yaaa', 'kann', 'yh', 'yhh', 'yhhh', 'jg',\n",
        "#     'tuh', 'si', 'pun', 'pd', 'blm', 'kl', 'klo', 'klu', 'utk', 'biar','mah', 'deh', 'dehh', 'dehhh'\n",
        "# }\n",
        "\n",
        "# # Gabungkan dua set stopword\n",
        "# stop_words = id_words.union(eng_words)\n",
        "# stop_words = stop_words.union(custom_stopwords)"
      ],
      "metadata": {
        "colab": {
          "base_uri": "https://localhost:8080/"
        },
        "id": "QDTjHy5ZD7yL",
        "outputId": "6815f875-fc9c-4c9d-ba9b-ef5d7425e4ca",
        "collapsed": true
      },
      "execution_count": null,
      "outputs": [
        {
          "output_type": "stream",
          "name": "stderr",
          "text": [
            "[nltk_data] Downloading package stopwords to /root/nltk_data...\n",
            "[nltk_data]   Package stopwords is already up-to-date!\n"
          ]
        }
      ]
    },
    {
      "cell_type": "code",
      "source": [
        "# def clean_text(text):\n",
        "#     if not isinstance(text, str):\n",
        "#         return \"\"\n",
        "\n",
        "#     # Hapus mention (@user)\n",
        "#     text = re.sub(r'@\\w+', '', text)\n",
        "\n",
        "#     # Hapus hashtag (#tag)\n",
        "#     text = re.sub(r'#\\w+', '', text)\n",
        "\n",
        "#     # Hapus URL (http, https)\n",
        "     text = re.sub(r'http\\S+|www\\S+', '', text)\n",
        "\n",
        "#     # Hapus angka\n",
        "#     text = re.sub(r'\\d+', '', text)\n",
        "\n",
        "#     # Hapus simbol sm tanda baca, kecuali spasi\n",
        "#     text = re.sub(r'[^\\w\\s]', '', text)\n",
        "\n",
        "#     # Hapus spasi berlebih\n",
        "     text = re.sub(r'\\s+', ' ', text).strip()\n",
        "#     # Hapus stopword\n",
        "#     text = ' '.join([word for word in text.split() if word not in stop_words])\n",
        "\n",
        "#     return text\n",
        "\n",
        " # Terapkan ke kolom\n",
        " df_filtered = df_casefolded.apply(clean_text)"
      ],
      "metadata": {
        "id": "XJX8JjoHG0JV"
      },
      "execution_count": null,
      "outputs": []
    },
    {
      "cell_type": "markdown",
      "source": [
        "**TOKENIZE**"
      ],
      "metadata": {
        "id": "f-M4bEx_J1ts"
      }
    },
    {
      "cell_type": "code",
      "source": [
        "import nltk\n",
        "nltk.download('punkt')\n",
        "from nltk.tokenize import word_tokenize\n",
        "\n",
        "df[\"Tokenizing\"] = df[\"Filtering\"].apply(lambda x: word_tokenize(x))\n",
        "\n",
        "df[[\"review\", \"Tokenizing\"]]"
      ],
      "metadata": {
        "colab": {
          "base_uri": "https://localhost:8080/",
          "height": 458
        },
        "id": "rFde-HLmJjEj",
        "outputId": "be352f46-6576-4aa4-997e-320f7fa83c16"
      },
      "execution_count": null,
      "outputs": [
        {
          "output_type": "stream",
          "name": "stderr",
          "text": [
            "[nltk_data] Downloading package punkt to /root/nltk_data...\n",
            "[nltk_data]   Package punkt is already up-to-date!\n"
          ]
        },
        {
          "output_type": "execute_result",
          "data": {
            "text/plain": [
              "                                                 review  \\\n",
              "0     Pelayanannya ramah bgtt, fasilitas kamar juga ...   \n",
              "1     Baru kali ini sangat kecewa dengan pelayanan h...   \n",
              "2     Liburan menyenangkan di jogja\\nStay di hotel y...   \n",
              "3     lokasinya juga mantap dekat dengan bandara dan...   \n",
              "4     Saya merekomendasikan anda untuk menginap di h...   \n",
              "...                                                 ...   \n",
              "1211  Kalau bisa tiap lift ada pemandunya (guide) un...   \n",
              "1212  Menu sarapan nya sangat lengkap, rasa nya juga...   \n",
              "1213  tempat renangnya bagus, di atas.\\nmakanan okee...   \n",
              "1214  Sangattt rekomended untuk kesini, makanannya e...   \n",
              "1215  Kamar bersih, nyaman, wifi lancar, Breakfast m...   \n",
              "\n",
              "                                             Tokenizing  \n",
              "0     [layan, ramah, bgtt, fasilitas, kamar, oke, re...  \n",
              "1     [baru, kali, sangat, kecewa, layan, hotel, mer...  \n",
              "2     [libur, senang, jogja, stay, hotel, yg, luar, ...  \n",
              "3     [lokasi, mantap, dekat, bandara, tempat, tempa...  \n",
              "4     [rekomendasi, untuk, inap, hotel, layan, bagus...  \n",
              "...                                                 ...  \n",
              "1211  [kalau, tiap, lift, pandu, guide, para, tamu, ...  \n",
              "1212  [menu, sarap, nya, sangat, lengkap, rasa, nya,...  \n",
              "1213  [tempat, renang, bagus, atas, makan, okee, ban...  \n",
              "1214  [sangattt, rekomended, kesini, makan, enak, st...  \n",
              "1215  [kamar, bersih, nyaman, wifi, lancar, breakfas...  \n",
              "\n",
              "[1216 rows x 2 columns]"
            ],
            "text/html": [
              "\n",
              "  <div id=\"df-c75d1a7a-a369-42c3-b9d6-da141c9d9b65\" class=\"colab-df-container\">\n",
              "    <div>\n",
              "<style scoped>\n",
              "    .dataframe tbody tr th:only-of-type {\n",
              "        vertical-align: middle;\n",
              "    }\n",
              "\n",
              "    .dataframe tbody tr th {\n",
              "        vertical-align: top;\n",
              "    }\n",
              "\n",
              "    .dataframe thead th {\n",
              "        text-align: right;\n",
              "    }\n",
              "</style>\n",
              "<table border=\"1\" class=\"dataframe\">\n",
              "  <thead>\n",
              "    <tr style=\"text-align: right;\">\n",
              "      <th></th>\n",
              "      <th>review</th>\n",
              "      <th>Tokenizing</th>\n",
              "    </tr>\n",
              "  </thead>\n",
              "  <tbody>\n",
              "    <tr>\n",
              "      <th>0</th>\n",
              "      <td>Pelayanannya ramah bgtt, fasilitas kamar juga ...</td>\n",
              "      <td>[layan, ramah, bgtt, fasilitas, kamar, oke, re...</td>\n",
              "    </tr>\n",
              "    <tr>\n",
              "      <th>1</th>\n",
              "      <td>Baru kali ini sangat kecewa dengan pelayanan h...</td>\n",
              "      <td>[baru, kali, sangat, kecewa, layan, hotel, mer...</td>\n",
              "    </tr>\n",
              "    <tr>\n",
              "      <th>2</th>\n",
              "      <td>Liburan menyenangkan di jogja\\nStay di hotel y...</td>\n",
              "      <td>[libur, senang, jogja, stay, hotel, yg, luar, ...</td>\n",
              "    </tr>\n",
              "    <tr>\n",
              "      <th>3</th>\n",
              "      <td>lokasinya juga mantap dekat dengan bandara dan...</td>\n",
              "      <td>[lokasi, mantap, dekat, bandara, tempat, tempa...</td>\n",
              "    </tr>\n",
              "    <tr>\n",
              "      <th>4</th>\n",
              "      <td>Saya merekomendasikan anda untuk menginap di h...</td>\n",
              "      <td>[rekomendasi, untuk, inap, hotel, layan, bagus...</td>\n",
              "    </tr>\n",
              "    <tr>\n",
              "      <th>...</th>\n",
              "      <td>...</td>\n",
              "      <td>...</td>\n",
              "    </tr>\n",
              "    <tr>\n",
              "      <th>1211</th>\n",
              "      <td>Kalau bisa tiap lift ada pemandunya (guide) un...</td>\n",
              "      <td>[kalau, tiap, lift, pandu, guide, para, tamu, ...</td>\n",
              "    </tr>\n",
              "    <tr>\n",
              "      <th>1212</th>\n",
              "      <td>Menu sarapan nya sangat lengkap, rasa nya juga...</td>\n",
              "      <td>[menu, sarap, nya, sangat, lengkap, rasa, nya,...</td>\n",
              "    </tr>\n",
              "    <tr>\n",
              "      <th>1213</th>\n",
              "      <td>tempat renangnya bagus, di atas.\\nmakanan okee...</td>\n",
              "      <td>[tempat, renang, bagus, atas, makan, okee, ban...</td>\n",
              "    </tr>\n",
              "    <tr>\n",
              "      <th>1214</th>\n",
              "      <td>Sangattt rekomended untuk kesini, makanannya e...</td>\n",
              "      <td>[sangattt, rekomended, kesini, makan, enak, st...</td>\n",
              "    </tr>\n",
              "    <tr>\n",
              "      <th>1215</th>\n",
              "      <td>Kamar bersih, nyaman, wifi lancar, Breakfast m...</td>\n",
              "      <td>[kamar, bersih, nyaman, wifi, lancar, breakfas...</td>\n",
              "    </tr>\n",
              "  </tbody>\n",
              "</table>\n",
              "<p>1216 rows × 2 columns</p>\n",
              "</div>\n",
              "    <div class=\"colab-df-buttons\">\n",
              "\n",
              "  <div class=\"colab-df-container\">\n",
              "    <button class=\"colab-df-convert\" onclick=\"convertToInteractive('df-c75d1a7a-a369-42c3-b9d6-da141c9d9b65')\"\n",
              "            title=\"Convert this dataframe to an interactive table.\"\n",
              "            style=\"display:none;\">\n",
              "\n",
              "  <svg xmlns=\"http://www.w3.org/2000/svg\" height=\"24px\" viewBox=\"0 -960 960 960\">\n",
              "    <path d=\"M120-120v-720h720v720H120Zm60-500h600v-160H180v160Zm220 220h160v-160H400v160Zm0 220h160v-160H400v160ZM180-400h160v-160H180v160Zm440 0h160v-160H620v160ZM180-180h160v-160H180v160Zm440 0h160v-160H620v160Z\"/>\n",
              "  </svg>\n",
              "    </button>\n",
              "\n",
              "  <style>\n",
              "    .colab-df-container {\n",
              "      display:flex;\n",
              "      gap: 12px;\n",
              "    }\n",
              "\n",
              "    .colab-df-convert {\n",
              "      background-color: #E8F0FE;\n",
              "      border: none;\n",
              "      border-radius: 50%;\n",
              "      cursor: pointer;\n",
              "      display: none;\n",
              "      fill: #1967D2;\n",
              "      height: 32px;\n",
              "      padding: 0 0 0 0;\n",
              "      width: 32px;\n",
              "    }\n",
              "\n",
              "    .colab-df-convert:hover {\n",
              "      background-color: #E2EBFA;\n",
              "      box-shadow: 0px 1px 2px rgba(60, 64, 67, 0.3), 0px 1px 3px 1px rgba(60, 64, 67, 0.15);\n",
              "      fill: #174EA6;\n",
              "    }\n",
              "\n",
              "    .colab-df-buttons div {\n",
              "      margin-bottom: 4px;\n",
              "    }\n",
              "\n",
              "    [theme=dark] .colab-df-convert {\n",
              "      background-color: #3B4455;\n",
              "      fill: #D2E3FC;\n",
              "    }\n",
              "\n",
              "    [theme=dark] .colab-df-convert:hover {\n",
              "      background-color: #434B5C;\n",
              "      box-shadow: 0px 1px 3px 1px rgba(0, 0, 0, 0.15);\n",
              "      filter: drop-shadow(0px 1px 2px rgba(0, 0, 0, 0.3));\n",
              "      fill: #FFFFFF;\n",
              "    }\n",
              "  </style>\n",
              "\n",
              "    <script>\n",
              "      const buttonEl =\n",
              "        document.querySelector('#df-c75d1a7a-a369-42c3-b9d6-da141c9d9b65 button.colab-df-convert');\n",
              "      buttonEl.style.display =\n",
              "        google.colab.kernel.accessAllowed ? 'block' : 'none';\n",
              "\n",
              "      async function convertToInteractive(key) {\n",
              "        const element = document.querySelector('#df-c75d1a7a-a369-42c3-b9d6-da141c9d9b65');\n",
              "        const dataTable =\n",
              "          await google.colab.kernel.invokeFunction('convertToInteractive',\n",
              "                                                    [key], {});\n",
              "        if (!dataTable) return;\n",
              "\n",
              "        const docLinkHtml = 'Like what you see? Visit the ' +\n",
              "          '<a target=\"_blank\" href=https://colab.research.google.com/notebooks/data_table.ipynb>data table notebook</a>'\n",
              "          + ' to learn more about interactive tables.';\n",
              "        element.innerHTML = '';\n",
              "        dataTable['output_type'] = 'display_data';\n",
              "        await google.colab.output.renderOutput(dataTable, element);\n",
              "        const docLink = document.createElement('div');\n",
              "        docLink.innerHTML = docLinkHtml;\n",
              "        element.appendChild(docLink);\n",
              "      }\n",
              "    </script>\n",
              "  </div>\n",
              "\n",
              "\n",
              "    <div id=\"df-1477f2c6-49c9-45d8-918c-f0ad1612e3a1\">\n",
              "      <button class=\"colab-df-quickchart\" onclick=\"quickchart('df-1477f2c6-49c9-45d8-918c-f0ad1612e3a1')\"\n",
              "                title=\"Suggest charts\"\n",
              "                style=\"display:none;\">\n",
              "\n",
              "<svg xmlns=\"http://www.w3.org/2000/svg\" height=\"24px\"viewBox=\"0 0 24 24\"\n",
              "     width=\"24px\">\n",
              "    <g>\n",
              "        <path d=\"M19 3H5c-1.1 0-2 .9-2 2v14c0 1.1.9 2 2 2h14c1.1 0 2-.9 2-2V5c0-1.1-.9-2-2-2zM9 17H7v-7h2v7zm4 0h-2V7h2v10zm4 0h-2v-4h2v4z\"/>\n",
              "    </g>\n",
              "</svg>\n",
              "      </button>\n",
              "\n",
              "<style>\n",
              "  .colab-df-quickchart {\n",
              "      --bg-color: #E8F0FE;\n",
              "      --fill-color: #1967D2;\n",
              "      --hover-bg-color: #E2EBFA;\n",
              "      --hover-fill-color: #174EA6;\n",
              "      --disabled-fill-color: #AAA;\n",
              "      --disabled-bg-color: #DDD;\n",
              "  }\n",
              "\n",
              "  [theme=dark] .colab-df-quickchart {\n",
              "      --bg-color: #3B4455;\n",
              "      --fill-color: #D2E3FC;\n",
              "      --hover-bg-color: #434B5C;\n",
              "      --hover-fill-color: #FFFFFF;\n",
              "      --disabled-bg-color: #3B4455;\n",
              "      --disabled-fill-color: #666;\n",
              "  }\n",
              "\n",
              "  .colab-df-quickchart {\n",
              "    background-color: var(--bg-color);\n",
              "    border: none;\n",
              "    border-radius: 50%;\n",
              "    cursor: pointer;\n",
              "    display: none;\n",
              "    fill: var(--fill-color);\n",
              "    height: 32px;\n",
              "    padding: 0;\n",
              "    width: 32px;\n",
              "  }\n",
              "\n",
              "  .colab-df-quickchart:hover {\n",
              "    background-color: var(--hover-bg-color);\n",
              "    box-shadow: 0 1px 2px rgba(60, 64, 67, 0.3), 0 1px 3px 1px rgba(60, 64, 67, 0.15);\n",
              "    fill: var(--button-hover-fill-color);\n",
              "  }\n",
              "\n",
              "  .colab-df-quickchart-complete:disabled,\n",
              "  .colab-df-quickchart-complete:disabled:hover {\n",
              "    background-color: var(--disabled-bg-color);\n",
              "    fill: var(--disabled-fill-color);\n",
              "    box-shadow: none;\n",
              "  }\n",
              "\n",
              "  .colab-df-spinner {\n",
              "    border: 2px solid var(--fill-color);\n",
              "    border-color: transparent;\n",
              "    border-bottom-color: var(--fill-color);\n",
              "    animation:\n",
              "      spin 1s steps(1) infinite;\n",
              "  }\n",
              "\n",
              "  @keyframes spin {\n",
              "    0% {\n",
              "      border-color: transparent;\n",
              "      border-bottom-color: var(--fill-color);\n",
              "      border-left-color: var(--fill-color);\n",
              "    }\n",
              "    20% {\n",
              "      border-color: transparent;\n",
              "      border-left-color: var(--fill-color);\n",
              "      border-top-color: var(--fill-color);\n",
              "    }\n",
              "    30% {\n",
              "      border-color: transparent;\n",
              "      border-left-color: var(--fill-color);\n",
              "      border-top-color: var(--fill-color);\n",
              "      border-right-color: var(--fill-color);\n",
              "    }\n",
              "    40% {\n",
              "      border-color: transparent;\n",
              "      border-right-color: var(--fill-color);\n",
              "      border-top-color: var(--fill-color);\n",
              "    }\n",
              "    60% {\n",
              "      border-color: transparent;\n",
              "      border-right-color: var(--fill-color);\n",
              "    }\n",
              "    80% {\n",
              "      border-color: transparent;\n",
              "      border-right-color: var(--fill-color);\n",
              "      border-bottom-color: var(--fill-color);\n",
              "    }\n",
              "    90% {\n",
              "      border-color: transparent;\n",
              "      border-bottom-color: var(--fill-color);\n",
              "    }\n",
              "  }\n",
              "</style>\n",
              "\n",
              "      <script>\n",
              "        async function quickchart(key) {\n",
              "          const quickchartButtonEl =\n",
              "            document.querySelector('#' + key + ' button');\n",
              "          quickchartButtonEl.disabled = true;  // To prevent multiple clicks.\n",
              "          quickchartButtonEl.classList.add('colab-df-spinner');\n",
              "          try {\n",
              "            const charts = await google.colab.kernel.invokeFunction(\n",
              "                'suggestCharts', [key], {});\n",
              "          } catch (error) {\n",
              "            console.error('Error during call to suggestCharts:', error);\n",
              "          }\n",
              "          quickchartButtonEl.classList.remove('colab-df-spinner');\n",
              "          quickchartButtonEl.classList.add('colab-df-quickchart-complete');\n",
              "        }\n",
              "        (() => {\n",
              "          let quickchartButtonEl =\n",
              "            document.querySelector('#df-1477f2c6-49c9-45d8-918c-f0ad1612e3a1 button');\n",
              "          quickchartButtonEl.style.display =\n",
              "            google.colab.kernel.accessAllowed ? 'block' : 'none';\n",
              "        })();\n",
              "      </script>\n",
              "    </div>\n",
              "\n",
              "    </div>\n",
              "  </div>\n"
            ],
            "application/vnd.google.colaboratory.intrinsic+json": {
              "type": "dataframe",
              "summary": "{\n  \"name\": \"df[[\\\"review\\\", \\\"Tokenizing\\\"]]\",\n  \"rows\": 1216,\n  \"fields\": [\n    {\n      \"column\": \"review\",\n      \"properties\": {\n        \"dtype\": \"string\",\n        \"num_unique_values\": 1216,\n        \"samples\": [\n          \"Hotel ternyaman di jogja, fasilitas lengkap dan pelayanan ramah. Hanya saja jarak ke pusat wisata malioboro lumayan jauh.\\nSelebihnya \\u2b50\\ufe0f5\",\n          \"Kelihatan manajemen hotel belum siap terima rombongan banyak.\\nBanyak peserta sampai jam 4 sore belum bisa Cek in.\\nKuantitas makanan cukup banyak, tapi rasanya kurang terasa enak untuk kelas hotel berbintang.\",\n          \"Overall experiencenya memuaskan, breakfast variatif dan kamar spacey dan bersih. khusus balkon kalau mau buka pintunya by request ke resepsionis ya.\"\n        ],\n        \"semantic_type\": \"\",\n        \"description\": \"\"\n      }\n    },\n    {\n      \"column\": \"Tokenizing\",\n      \"properties\": {\n        \"dtype\": \"object\",\n        \"semantic_type\": \"\",\n        \"description\": \"\"\n      }\n    }\n  ]\n}"
            }
          },
          "metadata": {},
          "execution_count": 79
        }
      ]
    },
    {
      "cell_type": "code",
      "source": [
        "import pandas as pd\n",
        "\n",
        "# Ambil kolom yang penting aja\n",
        "df_export = df\n",
        "\n",
        "# Export ke CSV\n",
        "df_export.to_csv(\"hasil_preprocess_final.csv\", index=False)\n",
        "df.to_excel(\"hasil_preporcess_final.xlsx\", index=False, engine='openpyxl')"
      ],
      "metadata": {
        "id": "xTDYl90FFns0"
      },
      "execution_count": null,
      "outputs": []
    }
  ],
  "metadata": {
    "colab": {
      "provenance": []
    },
    "kernelspec": {
      "display_name": "Python 3",
      "name": "python3"
    },
    "language_info": {
      "name": "python"
    }
  },
  "nbformat": 4,
  "nbformat_minor": 0
}